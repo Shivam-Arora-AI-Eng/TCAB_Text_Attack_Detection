{
 "cells": [
  {
   "cell_type": "code",
   "execution_count": 1,
   "id": "4f373fb7-8553-4064-9159-0f65bb461e49",
   "metadata": {},
   "outputs": [],
   "source": [
    "import pandas as pd"
   ]
  },
  {
   "cell_type": "code",
   "execution_count": 3,
   "id": "60afce71-eb0b-4b40-b176-28c4572f4113",
   "metadata": {
    "scrolled": true
   },
   "outputs": [],
   "source": [
    "tcab_train = pd.read_csv('./train.csv')"
   ]
  },
  {
   "cell_type": "code",
   "execution_count": 4,
   "id": "4ff44732-93ca-41c9-8c38-fbb8e4cf82e3",
   "metadata": {},
   "outputs": [
    {
     "data": {
      "text/html": [
       "<div>\n",
       "<style scoped>\n",
       "    .dataframe tbody tr th:only-of-type {\n",
       "        vertical-align: middle;\n",
       "    }\n",
       "\n",
       "    .dataframe tbody tr th {\n",
       "        vertical-align: top;\n",
       "    }\n",
       "\n",
       "    .dataframe thead th {\n",
       "        text-align: right;\n",
       "    }\n",
       "</style>\n",
       "<table border=\"1\" class=\"dataframe\">\n",
       "  <thead>\n",
       "    <tr style=\"text-align: right;\">\n",
       "      <th></th>\n",
       "      <th>scenario</th>\n",
       "      <th>target_model_dataset</th>\n",
       "      <th>target_model_train_dataset</th>\n",
       "      <th>target_model</th>\n",
       "      <th>attack_toolchain</th>\n",
       "      <th>attack_name</th>\n",
       "      <th>original_text</th>\n",
       "      <th>original_output</th>\n",
       "      <th>ground_truth</th>\n",
       "      <th>status</th>\n",
       "      <th>perturbed_text</th>\n",
       "      <th>perturbed_output</th>\n",
       "      <th>attack_time</th>\n",
       "      <th>num_queries</th>\n",
       "      <th>frac_words_changed</th>\n",
       "      <th>test_index</th>\n",
       "      <th>original_text_identifier</th>\n",
       "      <th>unique_src_instance_identifier</th>\n",
       "      <th>pk</th>\n",
       "    </tr>\n",
       "  </thead>\n",
       "  <tbody>\n",
       "    <tr>\n",
       "      <th>0</th>\n",
       "      <td>abuse</td>\n",
       "      <td>hatebase</td>\n",
       "      <td>hatebase</td>\n",
       "      <td>bert</td>\n",
       "      <td>openattack</td>\n",
       "      <td>textbugger</td>\n",
       "      <td>\"@KelsieBelsi: You're not a man if you refer t...</td>\n",
       "      <td>[0.00277859 0.99722147]</td>\n",
       "      <td>1</td>\n",
       "      <td>success</td>\n",
       "      <td>\"@ KelsieBesi : You ' re not a men if you ref...</td>\n",
       "      <td>[0.5809263 0.4190737]</td>\n",
       "      <td>5922.098629</td>\n",
       "      <td>-1</td>\n",
       "      <td>0.368421</td>\n",
       "      <td>0</td>\n",
       "      <td>77493</td>\n",
       "      <td>('hatebase', 0, 77493)</td>\n",
       "      <td>('textbugger', 'openattack', 77493, 'abuse', '...</td>\n",
       "    </tr>\n",
       "    <tr>\n",
       "      <th>1</th>\n",
       "      <td>abuse</td>\n",
       "      <td>hatebase</td>\n",
       "      <td>hatebase</td>\n",
       "      <td>bert</td>\n",
       "      <td>openattack</td>\n",
       "      <td>hotflip</td>\n",
       "      <td>\"@KelsieBelsi: You're not a man if you refer t...</td>\n",
       "      <td>[0.00277859 0.99722147]</td>\n",
       "      <td>1</td>\n",
       "      <td>success</td>\n",
       "      <td>\"@ kelsiebelsi : you ' re not a boy without y...</td>\n",
       "      <td>[0.628556 0.371444]</td>\n",
       "      <td>2184.083084</td>\n",
       "      <td>-1</td>\n",
       "      <td>0.368421</td>\n",
       "      <td>0</td>\n",
       "      <td>77493</td>\n",
       "      <td>('hatebase', 0, 77493)</td>\n",
       "      <td>('hotflip', 'openattack', 77493, 'abuse', 'ber...</td>\n",
       "    </tr>\n",
       "    <tr>\n",
       "      <th>2</th>\n",
       "      <td>abuse</td>\n",
       "      <td>hatebase</td>\n",
       "      <td>hatebase</td>\n",
       "      <td>bert</td>\n",
       "      <td>openattack</td>\n",
       "      <td>viper</td>\n",
       "      <td>\"@KelsieBelsi: You're not a man if you refer t...</td>\n",
       "      <td>[0.00277859 0.99722147]</td>\n",
       "      <td>1</td>\n",
       "      <td>success</td>\n",
       "      <td>\"@KelsieBeᶅŝi: Yôǔ're not a mân if yôu rêḟer t...</td>\n",
       "      <td>[0.75858027 0.24141973]</td>\n",
       "      <td>82.861893</td>\n",
       "      <td>-1</td>\n",
       "      <td>0.368421</td>\n",
       "      <td>0</td>\n",
       "      <td>77493</td>\n",
       "      <td>('hatebase', 0, 77493)</td>\n",
       "      <td>('viper', 'openattack', 77493, 'abuse', 'bert'...</td>\n",
       "    </tr>\n",
       "    <tr>\n",
       "      <th>3</th>\n",
       "      <td>abuse</td>\n",
       "      <td>hatebase</td>\n",
       "      <td>hatebase</td>\n",
       "      <td>roberta</td>\n",
       "      <td>openattack</td>\n",
       "      <td>viper</td>\n",
       "      <td>Ayo why da hell ain't nobody hip me to these n...</td>\n",
       "      <td>[0.01553293 0.984467  ]</td>\n",
       "      <td>1</td>\n",
       "      <td>success</td>\n",
       "      <td>Âyô whŷ ḑa hell aîn't nôbody hîp mê ẗo thesê n...</td>\n",
       "      <td>[0.6907478  0.30925217]</td>\n",
       "      <td>106.280187</td>\n",
       "      <td>-1</td>\n",
       "      <td>0.578947</td>\n",
       "      <td>0</td>\n",
       "      <td>126383</td>\n",
       "      <td>('hatebase', 0, 126383)</td>\n",
       "      <td>('viper', 'openattack', 126383, 'abuse', 'robe...</td>\n",
       "    </tr>\n",
       "    <tr>\n",
       "      <th>4</th>\n",
       "      <td>abuse</td>\n",
       "      <td>hatebase</td>\n",
       "      <td>hatebase</td>\n",
       "      <td>roberta</td>\n",
       "      <td>openattack</td>\n",
       "      <td>hotflip</td>\n",
       "      <td>Ayo why da hell ain't nobody hip me to these n...</td>\n",
       "      <td>[0.01553293 0.984467  ]</td>\n",
       "      <td>1</td>\n",
       "      <td>success</td>\n",
       "      <td>Ayo how prosecutor jeez ina ' t anyone hip me...</td>\n",
       "      <td>[0.52406085 0.47593915]</td>\n",
       "      <td>2295.363604</td>\n",
       "      <td>-1</td>\n",
       "      <td>0.368421</td>\n",
       "      <td>0</td>\n",
       "      <td>126383</td>\n",
       "      <td>('hatebase', 0, 126383)</td>\n",
       "      <td>('hotflip', 'openattack', 126383, 'abuse', 'ro...</td>\n",
       "    </tr>\n",
       "    <tr>\n",
       "      <th>...</th>\n",
       "      <td>...</td>\n",
       "      <td>...</td>\n",
       "      <td>...</td>\n",
       "      <td>...</td>\n",
       "      <td>...</td>\n",
       "      <td>...</td>\n",
       "      <td>...</td>\n",
       "      <td>...</td>\n",
       "      <td>...</td>\n",
       "      <td>...</td>\n",
       "      <td>...</td>\n",
       "      <td>...</td>\n",
       "      <td>...</td>\n",
       "      <td>...</td>\n",
       "      <td>...</td>\n",
       "      <td>...</td>\n",
       "      <td>...</td>\n",
       "      <td>...</td>\n",
       "      <td>...</td>\n",
       "    </tr>\n",
       "    <tr>\n",
       "      <th>1448746</th>\n",
       "      <td>sentiment</td>\n",
       "      <td>climate-change_waterloo</td>\n",
       "      <td>climate-change_waterloo</td>\n",
       "      <td>xlnet</td>\n",
       "      <td>textattack</td>\n",
       "      <td>textfooler</td>\n",
       "      <td>#credlin Tuesday 14 August - the day Malcolm T...</td>\n",
       "      <td>[0.9060629606246948, 0.055130716413259506, 0.0...</td>\n",
       "      <td>0</td>\n",
       "      <td>success</td>\n",
       "      <td>#credlin Tuesday 14 August - the day Malcolm T...</td>\n",
       "      <td>[0.2100798487663269, 0.10203437507152557, 0.68...</td>\n",
       "      <td>0.670872</td>\n",
       "      <td>73</td>\n",
       "      <td>0.023256</td>\n",
       "      <td>31177</td>\n",
       "      <td>86874</td>\n",
       "      <td>('climate-change_waterloo', 31177, 86874)</td>\n",
       "      <td>('textfooler', 'textattack', 86874, 'sentiment...</td>\n",
       "    </tr>\n",
       "    <tr>\n",
       "      <th>1448747</th>\n",
       "      <td>sentiment</td>\n",
       "      <td>climate-change_waterloo</td>\n",
       "      <td>climate-change_waterloo</td>\n",
       "      <td>roberta</td>\n",
       "      <td>textattack</td>\n",
       "      <td>bae</td>\n",
       "      <td>#credlin Tuesday 14 August - the day Malcolm T...</td>\n",
       "      <td>[0.9197883009910583, 0.054121337831020355, 0.0...</td>\n",
       "      <td>0</td>\n",
       "      <td>success</td>\n",
       "      <td>#credlin Tuesday 14 nd - the day Malcolm Turnb...</td>\n",
       "      <td>[0.1625988781452179, 0.1085820198059082, 0.728...</td>\n",
       "      <td>4.607213</td>\n",
       "      <td>120</td>\n",
       "      <td>0.093023</td>\n",
       "      <td>31177</td>\n",
       "      <td>86874</td>\n",
       "      <td>('climate-change_waterloo', 31177, 86874)</td>\n",
       "      <td>('bae', 'textattack', 86874, 'sentiment', 'rob...</td>\n",
       "    </tr>\n",
       "    <tr>\n",
       "      <th>1448748</th>\n",
       "      <td>sentiment</td>\n",
       "      <td>climate-change_waterloo</td>\n",
       "      <td>climate-change_waterloo</td>\n",
       "      <td>bert</td>\n",
       "      <td>textattack</td>\n",
       "      <td>faster_genetic</td>\n",
       "      <td>#credlin Tuesday 14 August - the day Malcolm T...</td>\n",
       "      <td>[0.9497579336166382, 0.03513958677649498, 0.01...</td>\n",
       "      <td>0</td>\n",
       "      <td>success</td>\n",
       "      <td>#credlin Tuesday 14 August - the day Malcolm T...</td>\n",
       "      <td>[0.09094860404729843, 0.22097301483154297, 0.6...</td>\n",
       "      <td>3.143060</td>\n",
       "      <td>340</td>\n",
       "      <td>0.023256</td>\n",
       "      <td>31177</td>\n",
       "      <td>86874</td>\n",
       "      <td>('climate-change_waterloo', 31177, 86874)</td>\n",
       "      <td>('faster_genetic', 'textattack', 86874, 'senti...</td>\n",
       "    </tr>\n",
       "    <tr>\n",
       "      <th>1448749</th>\n",
       "      <td>sentiment</td>\n",
       "      <td>climate-change_waterloo</td>\n",
       "      <td>climate-change_waterloo</td>\n",
       "      <td>roberta</td>\n",
       "      <td>textattack</td>\n",
       "      <td>textfooler</td>\n",
       "      <td>#credlin Tuesday 14 August - the day Malcolm T...</td>\n",
       "      <td>[0.9197883009910583, 0.054121337831020355, 0.0...</td>\n",
       "      <td>0</td>\n",
       "      <td>success</td>\n",
       "      <td>#credlin Tuesday 14 August - the day Malcolm T...</td>\n",
       "      <td>[0.3632950186729431, 0.18174666166305542, 0.45...</td>\n",
       "      <td>0.511809</td>\n",
       "      <td>73</td>\n",
       "      <td>0.023256</td>\n",
       "      <td>31177</td>\n",
       "      <td>86874</td>\n",
       "      <td>('climate-change_waterloo', 31177, 86874)</td>\n",
       "      <td>('textfooler', 'textattack', 86874, 'sentiment...</td>\n",
       "    </tr>\n",
       "    <tr>\n",
       "      <th>1448750</th>\n",
       "      <td>sentiment</td>\n",
       "      <td>climate-change_waterloo</td>\n",
       "      <td>climate-change_waterloo</td>\n",
       "      <td>roberta</td>\n",
       "      <td>textattack</td>\n",
       "      <td>pso</td>\n",
       "      <td>#credlin Tuesday 14 August - the day Malcolm T...</td>\n",
       "      <td>[0.9197883009910583, 0.054121337831020355, 0.0...</td>\n",
       "      <td>0</td>\n",
       "      <td>success</td>\n",
       "      <td>#credlin Tuesday 14 August - the day Malcolm T...</td>\n",
       "      <td>[0.015418026596307755, 0.048037268221378326, 0...</td>\n",
       "      <td>1.326649</td>\n",
       "      <td>166</td>\n",
       "      <td>0.023256</td>\n",
       "      <td>31177</td>\n",
       "      <td>86874</td>\n",
       "      <td>('climate-change_waterloo', 31177, 86874)</td>\n",
       "      <td>('pso', 'textattack', 86874, 'sentiment', 'rob...</td>\n",
       "    </tr>\n",
       "  </tbody>\n",
       "</table>\n",
       "<p>1448751 rows × 19 columns</p>\n",
       "</div>"
      ],
      "text/plain": [
       "          scenario     target_model_dataset target_model_train_dataset  \\\n",
       "0            abuse                 hatebase                   hatebase   \n",
       "1            abuse                 hatebase                   hatebase   \n",
       "2            abuse                 hatebase                   hatebase   \n",
       "3            abuse                 hatebase                   hatebase   \n",
       "4            abuse                 hatebase                   hatebase   \n",
       "...            ...                      ...                        ...   \n",
       "1448746  sentiment  climate-change_waterloo    climate-change_waterloo   \n",
       "1448747  sentiment  climate-change_waterloo    climate-change_waterloo   \n",
       "1448748  sentiment  climate-change_waterloo    climate-change_waterloo   \n",
       "1448749  sentiment  climate-change_waterloo    climate-change_waterloo   \n",
       "1448750  sentiment  climate-change_waterloo    climate-change_waterloo   \n",
       "\n",
       "        target_model attack_toolchain     attack_name  \\\n",
       "0               bert       openattack      textbugger   \n",
       "1               bert       openattack         hotflip   \n",
       "2               bert       openattack           viper   \n",
       "3            roberta       openattack           viper   \n",
       "4            roberta       openattack         hotflip   \n",
       "...              ...              ...             ...   \n",
       "1448746        xlnet       textattack      textfooler   \n",
       "1448747      roberta       textattack             bae   \n",
       "1448748         bert       textattack  faster_genetic   \n",
       "1448749      roberta       textattack      textfooler   \n",
       "1448750      roberta       textattack             pso   \n",
       "\n",
       "                                             original_text  \\\n",
       "0        \"@KelsieBelsi: You're not a man if you refer t...   \n",
       "1        \"@KelsieBelsi: You're not a man if you refer t...   \n",
       "2        \"@KelsieBelsi: You're not a man if you refer t...   \n",
       "3        Ayo why da hell ain't nobody hip me to these n...   \n",
       "4        Ayo why da hell ain't nobody hip me to these n...   \n",
       "...                                                    ...   \n",
       "1448746  #credlin Tuesday 14 August - the day Malcolm T...   \n",
       "1448747  #credlin Tuesday 14 August - the day Malcolm T...   \n",
       "1448748  #credlin Tuesday 14 August - the day Malcolm T...   \n",
       "1448749  #credlin Tuesday 14 August - the day Malcolm T...   \n",
       "1448750  #credlin Tuesday 14 August - the day Malcolm T...   \n",
       "\n",
       "                                           original_output  ground_truth  \\\n",
       "0                                  [0.00277859 0.99722147]             1   \n",
       "1                                  [0.00277859 0.99722147]             1   \n",
       "2                                  [0.00277859 0.99722147]             1   \n",
       "3                                  [0.01553293 0.984467  ]             1   \n",
       "4                                  [0.01553293 0.984467  ]             1   \n",
       "...                                                    ...           ...   \n",
       "1448746  [0.9060629606246948, 0.055130716413259506, 0.0...             0   \n",
       "1448747  [0.9197883009910583, 0.054121337831020355, 0.0...             0   \n",
       "1448748  [0.9497579336166382, 0.03513958677649498, 0.01...             0   \n",
       "1448749  [0.9197883009910583, 0.054121337831020355, 0.0...             0   \n",
       "1448750  [0.9197883009910583, 0.054121337831020355, 0.0...             0   \n",
       "\n",
       "          status                                     perturbed_text  \\\n",
       "0        success   \"@ KelsieBesi : You ' re not a men if you ref...   \n",
       "1        success   \"@ kelsiebelsi : you ' re not a boy without y...   \n",
       "2        success  \"@KelsieBeᶅŝi: Yôǔ're not a mân if yôu rêḟer t...   \n",
       "3        success  Âyô whŷ ḑa hell aîn't nôbody hîp mê ẗo thesê n...   \n",
       "4        success   Ayo how prosecutor jeez ina ' t anyone hip me...   \n",
       "...          ...                                                ...   \n",
       "1448746  success  #credlin Tuesday 14 August - the day Malcolm T...   \n",
       "1448747  success  #credlin Tuesday 14 nd - the day Malcolm Turnb...   \n",
       "1448748  success  #credlin Tuesday 14 August - the day Malcolm T...   \n",
       "1448749  success  #credlin Tuesday 14 August - the day Malcolm T...   \n",
       "1448750  success  #credlin Tuesday 14 August - the day Malcolm T...   \n",
       "\n",
       "                                          perturbed_output  attack_time  \\\n",
       "0                                    [0.5809263 0.4190737]  5922.098629   \n",
       "1                                      [0.628556 0.371444]  2184.083084   \n",
       "2                                  [0.75858027 0.24141973]    82.861893   \n",
       "3                                  [0.6907478  0.30925217]   106.280187   \n",
       "4                                  [0.52406085 0.47593915]  2295.363604   \n",
       "...                                                    ...          ...   \n",
       "1448746  [0.2100798487663269, 0.10203437507152557, 0.68...     0.670872   \n",
       "1448747  [0.1625988781452179, 0.1085820198059082, 0.728...     4.607213   \n",
       "1448748  [0.09094860404729843, 0.22097301483154297, 0.6...     3.143060   \n",
       "1448749  [0.3632950186729431, 0.18174666166305542, 0.45...     0.511809   \n",
       "1448750  [0.015418026596307755, 0.048037268221378326, 0...     1.326649   \n",
       "\n",
       "         num_queries  frac_words_changed  test_index  \\\n",
       "0                 -1            0.368421           0   \n",
       "1                 -1            0.368421           0   \n",
       "2                 -1            0.368421           0   \n",
       "3                 -1            0.578947           0   \n",
       "4                 -1            0.368421           0   \n",
       "...              ...                 ...         ...   \n",
       "1448746           73            0.023256       31177   \n",
       "1448747          120            0.093023       31177   \n",
       "1448748          340            0.023256       31177   \n",
       "1448749           73            0.023256       31177   \n",
       "1448750          166            0.023256       31177   \n",
       "\n",
       "         original_text_identifier             unique_src_instance_identifier  \\\n",
       "0                           77493                     ('hatebase', 0, 77493)   \n",
       "1                           77493                     ('hatebase', 0, 77493)   \n",
       "2                           77493                     ('hatebase', 0, 77493)   \n",
       "3                          126383                    ('hatebase', 0, 126383)   \n",
       "4                          126383                    ('hatebase', 0, 126383)   \n",
       "...                           ...                                        ...   \n",
       "1448746                     86874  ('climate-change_waterloo', 31177, 86874)   \n",
       "1448747                     86874  ('climate-change_waterloo', 31177, 86874)   \n",
       "1448748                     86874  ('climate-change_waterloo', 31177, 86874)   \n",
       "1448749                     86874  ('climate-change_waterloo', 31177, 86874)   \n",
       "1448750                     86874  ('climate-change_waterloo', 31177, 86874)   \n",
       "\n",
       "                                                        pk  \n",
       "0        ('textbugger', 'openattack', 77493, 'abuse', '...  \n",
       "1        ('hotflip', 'openattack', 77493, 'abuse', 'ber...  \n",
       "2        ('viper', 'openattack', 77493, 'abuse', 'bert'...  \n",
       "3        ('viper', 'openattack', 126383, 'abuse', 'robe...  \n",
       "4        ('hotflip', 'openattack', 126383, 'abuse', 'ro...  \n",
       "...                                                    ...  \n",
       "1448746  ('textfooler', 'textattack', 86874, 'sentiment...  \n",
       "1448747  ('bae', 'textattack', 86874, 'sentiment', 'rob...  \n",
       "1448748  ('faster_genetic', 'textattack', 86874, 'senti...  \n",
       "1448749  ('textfooler', 'textattack', 86874, 'sentiment...  \n",
       "1448750  ('pso', 'textattack', 86874, 'sentiment', 'rob...  \n",
       "\n",
       "[1448751 rows x 19 columns]"
      ]
     },
     "execution_count": 4,
     "metadata": {},
     "output_type": "execute_result"
    }
   ],
   "source": [
    "tcab_train"
   ]
  },
  {
   "cell_type": "code",
   "execution_count": 5,
   "id": "291f68bf-6d1d-47bc-ac43-78bf15327b59",
   "metadata": {},
   "outputs": [
    {
     "data": {
      "text/plain": [
       "success    896387\n",
       "clean      552364\n",
       "Name: status, dtype: int64"
      ]
     },
     "execution_count": 5,
     "metadata": {},
     "output_type": "execute_result"
    }
   ],
   "source": [
    "tcab_train.status.value_counts()"
   ]
  },
  {
   "cell_type": "code",
   "execution_count": 6,
   "id": "4e7ac18b-5a94-4531-9e94-81a5dd03021b",
   "metadata": {},
   "outputs": [
    {
     "data": {
      "text/plain": [
       "clean             552364\n",
       "deepwordbug       131245\n",
       "textbugger        130053\n",
       "viper             107616\n",
       "pso                94688\n",
       "textfooler         86591\n",
       "pruthi             77634\n",
       "iga_wang           76979\n",
       "hotflip            72847\n",
       "genetic            56172\n",
       "bae                36683\n",
       "faster_genetic     25879\n",
       "Name: attack_name, dtype: int64"
      ]
     },
     "execution_count": 6,
     "metadata": {},
     "output_type": "execute_result"
    }
   ],
   "source": [
    "tcab_train.attack_name.value_counts()"
   ]
  },
  {
   "cell_type": "code",
   "execution_count": 7,
   "id": "b02ad190-c1de-46fc-b5e5-b691b5fdca44",
   "metadata": {},
   "outputs": [
    {
     "data": {
      "text/plain": [
       "array(['success', 'clean'], dtype=object)"
      ]
     },
     "execution_count": 7,
     "metadata": {},
     "output_type": "execute_result"
    }
   ],
   "source": [
    "tcab_train.status.unique()"
   ]
  },
  {
   "cell_type": "code",
   "execution_count": 9,
   "id": "91e08f62-9b13-4a04-8eb0-c4ca63893305",
   "metadata": {
    "tags": []
   },
   "outputs": [
    {
     "data": {
      "text/plain": [
       "<AxesSubplot:>"
      ]
     },
     "execution_count": 9,
     "metadata": {},
     "output_type": "execute_result"
    },
    {
     "data": {
      "image/png": "[encoded data removed]",
      "text/plain": [
       "<Figure size 432x288 with 1 Axes>"
      ]
     },
     "metadata": {
      "needs_background": "light"
     },
     "output_type": "display_data"
    }
   ],
   "source": [
    "tcab_train[tcab_train.status == 'success'].frac_words_changed.hist()"
   ]
  },
  {
   "cell_type": "code",
   "execution_count": 10,
   "id": "843fab6e-da63-42d6-bac4-e57405fbebc4",
   "metadata": {},
   "outputs": [
    {
     "data": {
      "text/plain": [
       "<AxesSubplot:>"
      ]
     },
     "execution_count": 10,
     "metadata": {},
     "output_type": "execute_result"
    },
    {
     "data": {
      "image/png": "[encoded data removed]",
      "text/plain": [
       "<Figure size 432x288 with 1 Axes>"
      ]
     },
     "metadata": {
      "needs_background": "light"
     },
     "output_type": "display_data"
    }
   ],
   "source": [
    "tcab_train[tcab_train.status != 'success'].frac_words_changed.hist()"
   ]
  },
  {
   "cell_type": "code",
   "execution_count": 11,
   "id": "5c915dca-0efd-42f9-a513-78d67c81fa63",
   "metadata": {},
   "outputs": [],
   "source": [
    "import math\n",
    "\n",
    "def logits_difference(text):\n",
    "    if isinstance(text, str):\n",
    "        # print(text)\n",
    "        text2 = text[1:-1].strip()        \n",
    "        if ',' in text2:\n",
    "            new_arr = text2.split(',')\n",
    "        else:\n",
    "            new_arr = text2.split(' ')\n",
    "        # print(new_arr)\n",
    "        \n",
    "        # if 'e-' in text:\n",
    "        #     print(text)\n",
    "        #     print(text2)\n",
    "        #     print(new_arr)\n",
    "        #     print(format(float(new_arr[0]), 'f'))\n",
    "        #     print(format(float(new_arr[1]), 'f'))\n",
    "        #     output = abs(float(format(float(new_arr[0]), 'f')) - float(format(float(new_arr[1]), 'f')))\n",
    "        # else:\n",
    "        output =  abs(float(new_arr[0]) - float(new_arr[-1]))\n",
    "    else:\n",
    "        output = None\n",
    "    return output"
   ]
  },
  {
   "cell_type": "code",
   "execution_count": 26,
   "id": "973d4986-755c-41e8-a2f3-781c3e384241",
   "metadata": {
    "tags": []
   },
   "outputs": [],
   "source": [
    "tcab_train['logit_difference_perturbed_text'] = tcab_train.perturbed_output.apply(lambda x:logits_difference(x))\n",
    "tcab_train['logit_difference_original_text'] = tcab_train.original_output.apply(lambda x:logits_difference(x))"
   ]
  },
  {
   "cell_type": "code",
   "execution_count": 19,
   "id": "0ba4e25a-2c0c-48a2-ba7c-2ad669cdcb6b",
   "metadata": {
    "tags": []
   },
   "outputs": [
    {
     "name": "stdout",
     "output_type": "stream",
     "text": [
      "SCENARIO -  abuse\n"
     ]
    },
    {
     "data": {
      "image/png": "[encoded data removed]",
      "text/plain": [
       "<Figure size 432x288 with 1 Axes>"
      ]
     },
     "metadata": {
      "needs_background": "light"
     },
     "output_type": "display_data"
    },
    {
     "name": "stdout",
     "output_type": "stream",
     "text": [
      "SCENARIO -  sentiment\n"
     ]
    },
    {
     "data": {
      "image/png": "[encoded data removed]",
      "text/plain": [
       "<Figure size 432x288 with 1 Axes>"
      ]
     },
     "metadata": {
      "needs_background": "light"
     },
     "output_type": "display_data"
    }
   ],
   "source": [
    "import seaborn as sns\n",
    "import matplotlib.pyplot as plt\n",
    "for scenario in tcab_train.scenario.unique():\n",
    "    print('SCENARIO - ', scenario)\n",
    "    sns.boxplot(data=tcab_train[tcab_train.scenario == scenario], x=\"logit_difference_perturbed_text\", y=\"status\")\n",
    "    plt.show()"
   ]
  },
  {
   "cell_type": "code",
   "execution_count": 32,
   "id": "e0981cbc",
   "metadata": {},
   "outputs": [
    {
     "name": "stdout",
     "output_type": "stream",
     "text": [
      "target_model -  bert\n"
     ]
    },
    {
     "data": {
      "image/png": "[encoded data removed]",
      "text/plain": [
       "<Figure size 432x288 with 1 Axes>"
      ]
     },
     "metadata": {
      "needs_background": "light"
     },
     "output_type": "display_data"
    },
    {
     "name": "stdout",
     "output_type": "stream",
     "text": [
      "target_model -  roberta\n"
     ]
    },
    {
     "data": {
      "image/png": "[encoded data removed]",
      "text/plain": [
       "<Figure size 432x288 with 1 Axes>"
      ]
     },
     "metadata": {
      "needs_background": "light"
     },
     "output_type": "display_data"
    },
    {
     "name": "stdout",
     "output_type": "stream",
     "text": [
      "target_model -  xlnet\n"
     ]
    },
    {
     "data": {
      "image/png": "[encoded data removed]",
      "text/plain": [
       "<Figure size 432x288 with 1 Axes>"
      ]
     },
     "metadata": {
      "needs_background": "light"
     },
     "output_type": "display_data"
    }
   ],
   "source": [
    "import seaborn as sns\n",
    "import matplotlib.pyplot as plt\n",
    "for target_model in tcab_train.target_model.unique():\n",
    "    print('target_model - ', target_model)\n",
    "    sns.boxplot(data=tcab_train[tcab_train.target_model == target_model], x=\"logit_difference_perturbed_text\", y=\"status\")\n",
    "    plt.show()"
   ]
  },
  {
   "cell_type": "code",
   "execution_count": 25,
   "id": "37595dc8",
   "metadata": {
    "scrolled": true
   },
   "outputs": [
    {
     "name": "stdout",
     "output_type": "stream",
     "text": [
      "attack name -  textbugger\n"
     ]
    },
    {
     "data": {
      "image/png": "[encoded data removed]",
      "text/plain": [
       "<Figure size 432x288 with 1 Axes>"
      ]
     },
     "metadata": {
      "needs_background": "light"
     },
     "output_type": "display_data"
    },
    {
     "name": "stdout",
     "output_type": "stream",
     "text": [
      "attack name -  hotflip\n"
     ]
    },
    {
     "data": {
      "image/png": "[encoded data removed]",
      "text/plain": [
       "<Figure size 432x288 with 1 Axes>"
      ]
     },
     "metadata": {
      "needs_background": "light"
     },
     "output_type": "display_data"
    },
    {
     "name": "stdout",
     "output_type": "stream",
     "text": [
      "attack name -  viper\n"
     ]
    },
    {
     "data": {
      "image/png": "[encoded data removed]",
      "text/plain": [
       "<Figure size 432x288 with 1 Axes>"
      ]
     },
     "metadata": {
      "needs_background": "light"
     },
     "output_type": "display_data"
    },
    {
     "name": "stdout",
     "output_type": "stream",
     "text": [
      "attack name -  clean\n"
     ]
    },
    {
     "data": {
      "image/png": "[encoded data removed]",
      "text/plain": [
       "<Figure size 432x288 with 1 Axes>"
      ]
     },
     "metadata": {
      "needs_background": "light"
     },
     "output_type": "display_data"
    },
    {
     "name": "stdout",
     "output_type": "stream",
     "text": [
      "attack name -  genetic\n"
     ]
    },
    {
     "data": {
      "image/png": "[encoded data removed]",
      "text/plain": [
       "<Figure size 432x288 with 1 Axes>"
      ]
     },
     "metadata": {
      "needs_background": "light"
     },
     "output_type": "display_data"
    },
    {
     "name": "stdout",
     "output_type": "stream",
     "text": [
      "attack name -  textfooler\n"
     ]
    },
    {
     "data": {
      "image/png": "[encoded data removed]",
      "text/plain": [
       "<Figure size 432x288 with 1 Axes>"
      ]
     },
     "metadata": {
      "needs_background": "light"
     },
     "output_type": "display_data"
    },
    {
     "name": "stdout",
     "output_type": "stream",
     "text": [
      "attack name -  deepwordbug\n"
     ]
    },
    {
     "data": {
      "image/png": "[encoded data removed]",
      "text/plain": [
       "<Figure size 432x288 with 1 Axes>"
      ]
     },
     "metadata": {
      "needs_background": "light"
     },
     "output_type": "display_data"
    },
    {
     "name": "stdout",
     "output_type": "stream",
     "text": [
      "attack name -  iga_wang\n"
     ]
    },
    {
     "data": {
      "image/png": "[encoded data removed]",
      "text/plain": [
       "<Figure size 432x288 with 1 Axes>"
      ]
     },
     "metadata": {
      "needs_background": "light"
     },
     "output_type": "display_data"
    },
    {
     "name": "stdout",
     "output_type": "stream",
     "text": [
      "attack name -  bae\n"
     ]
    },
    {
     "data": {
      "image/png": "[encoded data removed]",
      "text/plain": [
       "<Figure size 432x288 with 1 Axes>"
      ]
     },
     "metadata": {
      "needs_background": "light"
     },
     "output_type": "display_data"
    },
    {
     "name": "stdout",
     "output_type": "stream",
     "text": [
      "attack name -  faster_genetic\n"
     ]
    },
    {
     "data": {
      "image/png": "[encoded data removed]",
      "text/plain": [
       "<Figure size 432x288 with 1 Axes>"
      ]
     },
     "metadata": {
      "needs_background": "light"
     },
     "output_type": "display_data"
    },
    {
     "name": "stdout",
     "output_type": "stream",
     "text": [
      "attack name -  pso\n"
     ]
    },
    {
     "data": {
      "image/png": "[encoded data removed]",
      "text/plain": [
       "<Figure size 432x288 with 1 Axes>"
      ]
     },
     "metadata": {
      "needs_background": "light"
     },
     "output_type": "display_data"
    },
    {
     "name": "stdout",
     "output_type": "stream",
     "text": [
      "attack name -  pruthi\n"
     ]
    },
    {
     "data": {
      "image/png": "[encoded data removed]",
      "text/plain": [
       "<Figure size 432x288 with 1 Axes>"
      ]
     },
     "metadata": {
      "needs_background": "light"
     },
     "output_type": "display_data"
    }
   ],
   "source": [
    "for attack_name in tcab_train.attack_name.unique():\n",
    "    print('attack name - ', attack_name)\n",
    "    sns.boxplot(x=tcab_train[tcab_train.attack_name == attack_name][\"logit_difference_perturbed_text\"])\n",
    "    plt.show()"
   ]
  },
  {
   "cell_type": "code",
   "execution_count": 27,
   "id": "90025dc6",
   "metadata": {
    "scrolled": true
   },
   "outputs": [
    {
     "name": "stdout",
     "output_type": "stream",
     "text": [
      "attack name -  textbugger\n"
     ]
    },
    {
     "data": {
      "image/png": "[encoded data removed]",
      "text/plain": [
       "<Figure size 432x288 with 1 Axes>"
      ]
     },
     "metadata": {
      "needs_background": "light"
     },
     "output_type": "display_data"
    },
    {
     "name": "stdout",
     "output_type": "stream",
     "text": [
      "attack name -  hotflip\n"
     ]
    },
    {
     "data": {
      "image/png": "[encoded data removed]",
      "text/plain": [
       "<Figure size 432x288 with 1 Axes>"
      ]
     },
     "metadata": {
      "needs_background": "light"
     },
     "output_type": "display_data"
    },
    {
     "name": "stdout",
     "output_type": "stream",
     "text": [
      "attack name -  viper\n"
     ]
    },
    {
     "data": {
      "image/png": "[encoded data removed]",
      "text/plain": [
       "<Figure size 432x288 with 1 Axes>"
      ]
     },
     "metadata": {
      "needs_background": "light"
     },
     "output_type": "display_data"
    },
    {
     "name": "stdout",
     "output_type": "stream",
     "text": [
      "attack name -  clean\n"
     ]
    },
    {
     "data": {
      "image/png": "[encoded data removed]",
      "text/plain": [
       "<Figure size 432x288 with 1 Axes>"
      ]
     },
     "metadata": {
      "needs_background": "light"
     },
     "output_type": "display_data"
    },
    {
     "name": "stdout",
     "output_type": "stream",
     "text": [
      "attack name -  genetic\n"
     ]
    },
    {
     "data": {
      "image/png": "[encoded data removed]",
      "text/plain": [
       "<Figure size 432x288 with 1 Axes>"
      ]
     },
     "metadata": {
      "needs_background": "light"
     },
     "output_type": "display_data"
    },
    {
     "name": "stdout",
     "output_type": "stream",
     "text": [
      "attack name -  textfooler\n"
     ]
    },
    {
     "data": {
      "image/png": "[encoded data removed]",
      "text/plain": [
       "<Figure size 432x288 with 1 Axes>"
      ]
     },
     "metadata": {
      "needs_background": "light"
     },
     "output_type": "display_data"
    },
    {
     "name": "stdout",
     "output_type": "stream",
     "text": [
      "attack name -  deepwordbug\n"
     ]
    },
    {
     "data": {
      "image/png": "[encoded data removed]",
      "text/plain": [
       "<Figure size 432x288 with 1 Axes>"
      ]
     },
     "metadata": {
      "needs_background": "light"
     },
     "output_type": "display_data"
    },
    {
     "name": "stdout",
     "output_type": "stream",
     "text": [
      "attack name -  iga_wang\n"
     ]
    },
    {
     "data": {
      "image/png": "[encoded data removed]",
      "text/plain": [
       "<Figure size 432x288 with 1 Axes>"
      ]
     },
     "metadata": {
      "needs_background": "light"
     },
     "output_type": "display_data"
    },
    {
     "name": "stdout",
     "output_type": "stream",
     "text": [
      "attack name -  bae\n"
     ]
    },
    {
     "data": {
      "image/png": "[encoded data removed]",
      "text/plain": [
       "<Figure size 432x288 with 1 Axes>"
      ]
     },
     "metadata": {
      "needs_background": "light"
     },
     "output_type": "display_data"
    },
    {
     "name": "stdout",
     "output_type": "stream",
     "text": [
      "attack name -  faster_genetic\n"
     ]
    },
    {
     "data": {
      "image/png": "[encoded data removed]",
      "text/plain": [
       "<Figure size 432x288 with 1 Axes>"
      ]
     },
     "metadata": {
      "needs_background": "light"
     },
     "output_type": "display_data"
    },
    {
     "name": "stdout",
     "output_type": "stream",
     "text": [
      "attack name -  pso\n"
     ]
    },
    {
     "data": {
      "image/png": "[encoded data removed]",
      "text/plain": [
       "<Figure size 432x288 with 1 Axes>"
      ]
     },
     "metadata": {
      "needs_background": "light"
     },
     "output_type": "display_data"
    },
    {
     "name": "stdout",
     "output_type": "stream",
     "text": [
      "attack name -  pruthi\n"
     ]
    },
    {
     "data": {
      "image/png": "[encoded data removed]",
      "text/plain": [
       "<Figure size 432x288 with 1 Axes>"
      ]
     },
     "metadata": {
      "needs_background": "light"
     },
     "output_type": "display_data"
    }
   ],
   "source": [
    "for attack_name in tcab_train.attack_name.unique():\n",
    "    print('attack name - ', attack_name)\n",
    "    sns.boxplot(x=tcab_train[tcab_train.attack_name == attack_name][\"logit_difference_original_text\"])\n",
    "    plt.show()"
   ]
  },
  {
   "cell_type": "code",
   "execution_count": 30,
   "id": "58cf839f",
   "metadata": {},
   "outputs": [],
   "source": [
    "tcab_train['original_to_perturbed_logit_second_difference'] = abs(tcab_train['logit_difference_original_text'] -  tcab_train['logit_difference_perturbed_text'])"
   ]
  },
  {
   "cell_type": "code",
   "execution_count": 31,
   "id": "092f5c80",
   "metadata": {
    "scrolled": true
   },
   "outputs": [
    {
     "name": "stdout",
     "output_type": "stream",
     "text": [
      "attack name -  textbugger\n"
     ]
    },
    {
     "data": {
      "image/png": "[encoded data removed]",
      "text/plain": [
       "<Figure size 432x288 with 1 Axes>"
      ]
     },
     "metadata": {
      "needs_background": "light"
     },
     "output_type": "display_data"
    },
    {
     "name": "stdout",
     "output_type": "stream",
     "text": [
      "attack name -  hotflip\n"
     ]
    },
    {
     "data": {
      "image/png": "[encoded data removed]",
      "text/plain": [
       "<Figure size 432x288 with 1 Axes>"
      ]
     },
     "metadata": {
      "needs_background": "light"
     },
     "output_type": "display_data"
    },
    {
     "name": "stdout",
     "output_type": "stream",
     "text": [
      "attack name -  viper\n"
     ]
    },
    {
     "data": {
      "image/png": "[encoded data removed]",
      "text/plain": [
       "<Figure size 432x288 with 1 Axes>"
      ]
     },
     "metadata": {
      "needs_background": "light"
     },
     "output_type": "display_data"
    },
    {
     "name": "stdout",
     "output_type": "stream",
     "text": [
      "attack name -  clean\n"
     ]
    },
    {
     "data": {
      "image/png": "[encoded data removed]",
      "text/plain": [
       "<Figure size 432x288 with 1 Axes>"
      ]
     },
     "metadata": {
      "needs_background": "light"
     },
     "output_type": "display_data"
    },
    {
     "name": "stdout",
     "output_type": "stream",
     "text": [
      "attack name -  genetic\n"
     ]
    },
    {
     "data": {
      "image/png": "[encoded data removed]",
      "text/plain": [
       "<Figure size 432x288 with 1 Axes>"
      ]
     },
     "metadata": {
      "needs_background": "light"
     },
     "output_type": "display_data"
    },
    {
     "name": "stdout",
     "output_type": "stream",
     "text": [
      "attack name -  textfooler\n"
     ]
    },
    {
     "data": {
      "image/png": "[encoded data removed]",
      "text/plain": [
       "<Figure size 432x288 with 1 Axes>"
      ]
     },
     "metadata": {
      "needs_background": "light"
     },
     "output_type": "display_data"
    },
    {
     "name": "stdout",
     "output_type": "stream",
     "text": [
      "attack name -  deepwordbug\n"
     ]
    },
    {
     "data": {
      "image/png": "[encoded data removed]",
      "text/plain": [
       "<Figure size 432x288 with 1 Axes>"
      ]
     },
     "metadata": {
      "needs_background": "light"
     },
     "output_type": "display_data"
    },
    {
     "name": "stdout",
     "output_type": "stream",
     "text": [
      "attack name -  iga_wang\n"
     ]
    },
    {
     "data": {
      "image/png": "[encoded data removed]",
      "text/plain": [
       "<Figure size 432x288 with 1 Axes>"
      ]
     },
     "metadata": {
      "needs_background": "light"
     },
     "output_type": "display_data"
    },
    {
     "name": "stdout",
     "output_type": "stream",
     "text": [
      "attack name -  bae\n"
     ]
    },
    {
     "data": {
      "image/png": "[encoded data removed]",
      "text/plain": [
       "<Figure size 432x288 with 1 Axes>"
      ]
     },
     "metadata": {
      "needs_background": "light"
     },
     "output_type": "display_data"
    },
    {
     "name": "stdout",
     "output_type": "stream",
     "text": [
      "attack name -  faster_genetic\n"
     ]
    },
    {
     "data": {
      "image/png": "[encoded data removed]",
      "text/plain": [
       "<Figure size 432x288 with 1 Axes>"
      ]
     },
     "metadata": {
      "needs_background": "light"
     },
     "output_type": "display_data"
    },
    {
     "name": "stdout",
     "output_type": "stream",
     "text": [
      "attack name -  pso\n"
     ]
    },
    {
     "data": {
      "image/png": "[encoded data removed]",
      "text/plain": [
       "<Figure size 432x288 with 1 Axes>"
      ]
     },
     "metadata": {
      "needs_background": "light"
     },
     "output_type": "display_data"
    },
    {
     "name": "stdout",
     "output_type": "stream",
     "text": [
      "attack name -  pruthi\n"
     ]
    },
    {
     "data": {
      "image/png": "[encoded data removed]",
      "text/plain": [
       "<Figure size 432x288 with 1 Axes>"
      ]
     },
     "metadata": {
      "needs_background": "light"
     },
     "output_type": "display_data"
    }
   ],
   "source": [
    "for attack_name in tcab_train.attack_name.unique():\n",
    "    print('attack name - ', attack_name)\n",
    "    sns.boxplot(x=tcab_train[tcab_train.attack_name == attack_name][\"original_to_perturbed_logit_second_difference\"])\n",
    "    plt.show()"
   ]
  },
  {
   "cell_type": "code",
   "execution_count": 35,
   "id": "3a1c3337",
   "metadata": {},
   "outputs": [
    {
     "name": "stdout",
     "output_type": "stream",
     "text": [
      "attack name -  textbugger\n"
     ]
    },
    {
     "data": {
      "image/png": "[encoded data removed]",
      "text/plain": [
       "<Figure size 432x288 with 1 Axes>"
      ]
     },
     "metadata": {
      "needs_background": "light"
     },
     "output_type": "display_data"
    },
    {
     "name": "stdout",
     "output_type": "stream",
     "text": [
      "attack name -  hotflip\n"
     ]
    },
    {
     "data": {
      "image/png": "[encoded data removed]",
      "text/plain": [
       "<Figure size 432x288 with 1 Axes>"
      ]
     },
     "metadata": {
      "needs_background": "light"
     },
     "output_type": "display_data"
    },
    {
     "name": "stdout",
     "output_type": "stream",
     "text": [
      "attack name -  viper\n"
     ]
    },
    {
     "data": {
      "image/png": "[encoded data removed]",
      "text/plain": [
       "<Figure size 432x288 with 1 Axes>"
      ]
     },
     "metadata": {
      "needs_background": "light"
     },
     "output_type": "display_data"
    },
    {
     "name": "stdout",
     "output_type": "stream",
     "text": [
      "attack name -  clean\n"
     ]
    },
    {
     "data": {
      "image/png": "[encoded data removed]",
      "text/plain": [
       "<Figure size 432x288 with 1 Axes>"
      ]
     },
     "metadata": {
      "needs_background": "light"
     },
     "output_type": "display_data"
    },
    {
     "name": "stdout",
     "output_type": "stream",
     "text": [
      "attack name -  genetic\n"
     ]
    },
    {
     "data": {
      "image/png": "[encoded data removed]",
      "text/plain": [
       "<Figure size 432x288 with 1 Axes>"
      ]
     },
     "metadata": {
      "needs_background": "light"
     },
     "output_type": "display_data"
    },
    {
     "name": "stdout",
     "output_type": "stream",
     "text": [
      "attack name -  textfooler\n"
     ]
    },
    {
     "data": {
      "image/png": "[encoded data removed]",
      "text/plain": [
       "<Figure size 432x288 with 1 Axes>"
      ]
     },
     "metadata": {
      "needs_background": "light"
     },
     "output_type": "display_data"
    },
    {
     "name": "stdout",
     "output_type": "stream",
     "text": [
      "attack name -  deepwordbug\n"
     ]
    },
    {
     "data": {
      "image/png": "[encoded data removed]",
      "text/plain": [
       "<Figure size 432x288 with 1 Axes>"
      ]
     },
     "metadata": {
      "needs_background": "light"
     },
     "output_type": "display_data"
    },
    {
     "name": "stdout",
     "output_type": "stream",
     "text": [
      "attack name -  iga_wang\n"
     ]
    },
    {
     "data": {
      "image/png": "[encoded data removed]",
      "text/plain": [
       "<Figure size 432x288 with 1 Axes>"
      ]
     },
     "metadata": {
      "needs_background": "light"
     },
     "output_type": "display_data"
    },
    {
     "name": "stdout",
     "output_type": "stream",
     "text": [
      "attack name -  bae\n"
     ]
    },
    {
     "data": {
      "image/png": "[encoded data removed]",
      "text/plain": [
       "<Figure size 432x288 with 1 Axes>"
      ]
     },
     "metadata": {
      "needs_background": "light"
     },
     "output_type": "display_data"
    },
    {
     "name": "stdout",
     "output_type": "stream",
     "text": [
      "attack name -  faster_genetic\n"
     ]
    },
    {
     "data": {
      "image/png": "[encoded data removed]",
      "text/plain": [
       "<Figure size 432x288 with 1 Axes>"
      ]
     },
     "metadata": {
      "needs_background": "light"
     },
     "output_type": "display_data"
    },
    {
     "name": "stdout",
     "output_type": "stream",
     "text": [
      "attack name -  pso\n"
     ]
    },
    {
     "data": {
      "image/png": "[encoded data removed]",
      "text/plain": [
       "<Figure size 432x288 with 1 Axes>"
      ]
     },
     "metadata": {
      "needs_background": "light"
     },
     "output_type": "display_data"
    },
    {
     "name": "stdout",
     "output_type": "stream",
     "text": [
      "attack name -  pruthi\n"
     ]
    },
    {
     "data": {
      "image/png": "[encoded data removed]",
      "text/plain": [
       "<Figure size 432x288 with 1 Axes>"
      ]
     },
     "metadata": {
      "needs_background": "light"
     },
     "output_type": "display_data"
    }
   ],
   "source": [
    "for attack_name in tcab_train.attack_name.unique():\n",
    "    print('attack name - ', attack_name)\n",
    "    sns.boxplot(x=tcab_train[tcab_train.attack_name == attack_name][\"frac_words_changed\"])\n",
    "    plt.show()"
   ]
  },
  {
   "cell_type": "code",
   "execution_count": 41,
   "id": "16c7f053",
   "metadata": {},
   "outputs": [
    {
     "data": {
      "text/html": [
       "<div>\n",
       "<style scoped>\n",
       "    .dataframe tbody tr th:only-of-type {\n",
       "        vertical-align: middle;\n",
       "    }\n",
       "\n",
       "    .dataframe tbody tr th {\n",
       "        vertical-align: top;\n",
       "    }\n",
       "\n",
       "    .dataframe thead th {\n",
       "        text-align: right;\n",
       "    }\n",
       "</style>\n",
       "<table border=\"1\" class=\"dataframe\">\n",
       "  <thead>\n",
       "    <tr style=\"text-align: right;\">\n",
       "      <th></th>\n",
       "      <th></th>\n",
       "      <th>ground_truth</th>\n",
       "      <th>attack_time</th>\n",
       "      <th>num_queries</th>\n",
       "      <th>frac_words_changed</th>\n",
       "      <th>test_index</th>\n",
       "      <th>original_text_identifier</th>\n",
       "      <th>logit_difference_perturbed_text</th>\n",
       "      <th>logit_difference_original_text</th>\n",
       "      <th>original_to_perturbed_logit_second_difference</th>\n",
       "    </tr>\n",
       "    <tr>\n",
       "      <th>attack_name</th>\n",
       "      <th>target_model</th>\n",
       "      <th></th>\n",
       "      <th></th>\n",
       "      <th></th>\n",
       "      <th></th>\n",
       "      <th></th>\n",
       "      <th></th>\n",
       "      <th></th>\n",
       "      <th></th>\n",
       "      <th></th>\n",
       "    </tr>\n",
       "  </thead>\n",
       "  <tbody>\n",
       "    <tr>\n",
       "      <th rowspan=\"3\" valign=\"top\">bae</th>\n",
       "      <th>bert</th>\n",
       "      <td>1.119645</td>\n",
       "      <td>2.880698</td>\n",
       "      <td>112.571552</td>\n",
       "      <td>0.078359</td>\n",
       "      <td>40252.306135</td>\n",
       "      <td>210057.203829</td>\n",
       "      <td>0.460985</td>\n",
       "      <td>0.676440</td>\n",
       "      <td>0.331331</td>\n",
       "    </tr>\n",
       "    <tr>\n",
       "      <th>roberta</th>\n",
       "      <td>1.010890</td>\n",
       "      <td>2.686720</td>\n",
       "      <td>117.219152</td>\n",
       "      <td>0.081963</td>\n",
       "      <td>43747.158042</td>\n",
       "      <td>212425.765098</td>\n",
       "      <td>0.519078</td>\n",
       "      <td>0.759578</td>\n",
       "      <td>0.372071</td>\n",
       "    </tr>\n",
       "    <tr>\n",
       "      <th>xlnet</th>\n",
       "      <td>1.259161</td>\n",
       "      <td>1.968873</td>\n",
       "      <td>75.027756</td>\n",
       "      <td>0.086008</td>\n",
       "      <td>40517.054265</td>\n",
       "      <td>204549.750741</td>\n",
       "      <td>0.496174</td>\n",
       "      <td>0.767913</td>\n",
       "      <td>0.391646</td>\n",
       "    </tr>\n",
       "    <tr>\n",
       "      <th rowspan=\"3\" valign=\"top\">clean</th>\n",
       "      <th>bert</th>\n",
       "      <td>0.330145</td>\n",
       "      <td>0.000000</td>\n",
       "      <td>0.000000</td>\n",
       "      <td>0.000000</td>\n",
       "      <td>59419.255075</td>\n",
       "      <td>244436.896596</td>\n",
       "      <td>0.867173</td>\n",
       "      <td>0.867173</td>\n",
       "      <td>0.000000</td>\n",
       "    </tr>\n",
       "    <tr>\n",
       "      <th>roberta</th>\n",
       "      <td>0.339623</td>\n",
       "      <td>0.000000</td>\n",
       "      <td>0.000000</td>\n",
       "      <td>0.000000</td>\n",
       "      <td>59414.547742</td>\n",
       "      <td>244438.587688</td>\n",
       "      <td>0.902400</td>\n",
       "      <td>0.902400</td>\n",
       "      <td>0.000000</td>\n",
       "    </tr>\n",
       "    <tr>\n",
       "      <th>xlnet</th>\n",
       "      <td>0.328041</td>\n",
       "      <td>0.000000</td>\n",
       "      <td>0.000000</td>\n",
       "      <td>0.000000</td>\n",
       "      <td>59421.859247</td>\n",
       "      <td>244438.750718</td>\n",
       "      <td>0.905050</td>\n",
       "      <td>0.905050</td>\n",
       "      <td>0.000000</td>\n",
       "    </tr>\n",
       "    <tr>\n",
       "      <th rowspan=\"3\" valign=\"top\">deepwordbug</th>\n",
       "      <th>bert</th>\n",
       "      <td>1.116758</td>\n",
       "      <td>887.220235</td>\n",
       "      <td>33.738090</td>\n",
       "      <td>0.239216</td>\n",
       "      <td>27643.341253</td>\n",
       "      <td>286027.910533</td>\n",
       "      <td>0.454396</td>\n",
       "      <td>0.766222</td>\n",
       "      <td>0.397289</td>\n",
       "    </tr>\n",
       "    <tr>\n",
       "      <th>roberta</th>\n",
       "      <td>1.027949</td>\n",
       "      <td>650.023521</td>\n",
       "      <td>76.053708</td>\n",
       "      <td>0.220862</td>\n",
       "      <td>24050.981087</td>\n",
       "      <td>272819.248944</td>\n",
       "      <td>0.407705</td>\n",
       "      <td>0.844659</td>\n",
       "      <td>0.516914</td>\n",
       "    </tr>\n",
       "    <tr>\n",
       "      <th>xlnet</th>\n",
       "      <td>1.094843</td>\n",
       "      <td>1424.810480</td>\n",
       "      <td>33.631322</td>\n",
       "      <td>0.228253</td>\n",
       "      <td>27395.517183</td>\n",
       "      <td>284576.339558</td>\n",
       "      <td>0.504504</td>\n",
       "      <td>0.823132</td>\n",
       "      <td>0.426549</td>\n",
       "    </tr>\n",
       "    <tr>\n",
       "      <th rowspan=\"3\" valign=\"top\">faster_genetic</th>\n",
       "      <th>bert</th>\n",
       "      <td>1.215987</td>\n",
       "      <td>5.174106</td>\n",
       "      <td>377.359780</td>\n",
       "      <td>0.080488</td>\n",
       "      <td>37981.209512</td>\n",
       "      <td>213858.064007</td>\n",
       "      <td>0.446299</td>\n",
       "      <td>0.557159</td>\n",
       "      <td>0.294044</td>\n",
       "    </tr>\n",
       "    <tr>\n",
       "      <th>roberta</th>\n",
       "      <td>0.954708</td>\n",
       "      <td>6.634903</td>\n",
       "      <td>376.666234</td>\n",
       "      <td>0.080655</td>\n",
       "      <td>63840.263961</td>\n",
       "      <td>230442.364123</td>\n",
       "      <td>0.605274</td>\n",
       "      <td>0.731829</td>\n",
       "      <td>0.342389</td>\n",
       "    </tr>\n",
       "    <tr>\n",
       "      <th>xlnet</th>\n",
       "      <td>1.003502</td>\n",
       "      <td>6.357396</td>\n",
       "      <td>370.088493</td>\n",
       "      <td>0.080806</td>\n",
       "      <td>62192.532707</td>\n",
       "      <td>229242.510107</td>\n",
       "      <td>0.632057</td>\n",
       "      <td>0.772449</td>\n",
       "      <td>0.320120</td>\n",
       "    </tr>\n",
       "    <tr>\n",
       "      <th rowspan=\"3\" valign=\"top\">genetic</th>\n",
       "      <th>bert</th>\n",
       "      <td>0.948759</td>\n",
       "      <td>220193.533800</td>\n",
       "      <td>32.024969</td>\n",
       "      <td>0.222374</td>\n",
       "      <td>29912.245919</td>\n",
       "      <td>269742.710084</td>\n",
       "      <td>0.393651</td>\n",
       "      <td>0.723924</td>\n",
       "      <td>0.414925</td>\n",
       "    </tr>\n",
       "    <tr>\n",
       "      <th>roberta</th>\n",
       "      <td>0.923598</td>\n",
       "      <td>217969.710597</td>\n",
       "      <td>33.624126</td>\n",
       "      <td>0.220926</td>\n",
       "      <td>31630.599530</td>\n",
       "      <td>269167.935976</td>\n",
       "      <td>0.408567</td>\n",
       "      <td>0.786547</td>\n",
       "      <td>0.467900</td>\n",
       "    </tr>\n",
       "    <tr>\n",
       "      <th>xlnet</th>\n",
       "      <td>1.100281</td>\n",
       "      <td>120007.837337</td>\n",
       "      <td>34.233511</td>\n",
       "      <td>0.203315</td>\n",
       "      <td>33917.190815</td>\n",
       "      <td>261253.324762</td>\n",
       "      <td>0.481835</td>\n",
       "      <td>0.807364</td>\n",
       "      <td>0.426158</td>\n",
       "    </tr>\n",
       "    <tr>\n",
       "      <th rowspan=\"3\" valign=\"top\">hotflip</th>\n",
       "      <th>bert</th>\n",
       "      <td>1.019633</td>\n",
       "      <td>44586.609554</td>\n",
       "      <td>-1.000000</td>\n",
       "      <td>0.344296</td>\n",
       "      <td>29110.805978</td>\n",
       "      <td>279269.114889</td>\n",
       "      <td>0.395213</td>\n",
       "      <td>0.689209</td>\n",
       "      <td>0.367122</td>\n",
       "    </tr>\n",
       "    <tr>\n",
       "      <th>roberta</th>\n",
       "      <td>1.093643</td>\n",
       "      <td>48612.679163</td>\n",
       "      <td>-1.000000</td>\n",
       "      <td>0.358159</td>\n",
       "      <td>28115.635744</td>\n",
       "      <td>269984.604485</td>\n",
       "      <td>0.380559</td>\n",
       "      <td>0.764940</td>\n",
       "      <td>0.460346</td>\n",
       "    </tr>\n",
       "    <tr>\n",
       "      <th>xlnet</th>\n",
       "      <td>1.030961</td>\n",
       "      <td>93482.197661</td>\n",
       "      <td>-1.000000</td>\n",
       "      <td>0.316376</td>\n",
       "      <td>25655.342300</td>\n",
       "      <td>263094.170056</td>\n",
       "      <td>0.404410</td>\n",
       "      <td>0.781689</td>\n",
       "      <td>0.452106</td>\n",
       "    </tr>\n",
       "    <tr>\n",
       "      <th rowspan=\"3\" valign=\"top\">iga_wang</th>\n",
       "      <th>bert</th>\n",
       "      <td>1.007416</td>\n",
       "      <td>1.625624</td>\n",
       "      <td>193.843598</td>\n",
       "      <td>0.159026</td>\n",
       "      <td>27712.435421</td>\n",
       "      <td>298782.534481</td>\n",
       "      <td>0.517122</td>\n",
       "      <td>0.695264</td>\n",
       "      <td>0.332879</td>\n",
       "    </tr>\n",
       "    <tr>\n",
       "      <th>roberta</th>\n",
       "      <td>1.002514</td>\n",
       "      <td>1.502832</td>\n",
       "      <td>194.568567</td>\n",
       "      <td>0.177142</td>\n",
       "      <td>27785.625572</td>\n",
       "      <td>303291.268167</td>\n",
       "      <td>0.529430</td>\n",
       "      <td>0.766101</td>\n",
       "      <td>0.403872</td>\n",
       "    </tr>\n",
       "    <tr>\n",
       "      <th>xlnet</th>\n",
       "      <td>1.073597</td>\n",
       "      <td>1.874970</td>\n",
       "      <td>195.091742</td>\n",
       "      <td>0.155700</td>\n",
       "      <td>27042.962074</td>\n",
       "      <td>292509.499473</td>\n",
       "      <td>0.570553</td>\n",
       "      <td>0.761158</td>\n",
       "      <td>0.390734</td>\n",
       "    </tr>\n",
       "    <tr>\n",
       "      <th rowspan=\"3\" valign=\"top\">pruthi</th>\n",
       "      <th>bert</th>\n",
       "      <td>0.966818</td>\n",
       "      <td>3.046978</td>\n",
       "      <td>275.650434</td>\n",
       "      <td>0.169413</td>\n",
       "      <td>28224.604080</td>\n",
       "      <td>300791.745095</td>\n",
       "      <td>0.598606</td>\n",
       "      <td>0.704302</td>\n",
       "      <td>0.271029</td>\n",
       "    </tr>\n",
       "    <tr>\n",
       "      <th>roberta</th>\n",
       "      <td>0.955705</td>\n",
       "      <td>2.673063</td>\n",
       "      <td>265.451198</td>\n",
       "      <td>0.175599</td>\n",
       "      <td>29175.123617</td>\n",
       "      <td>300620.092521</td>\n",
       "      <td>0.623774</td>\n",
       "      <td>0.740572</td>\n",
       "      <td>0.335916</td>\n",
       "    </tr>\n",
       "    <tr>\n",
       "      <th>xlnet</th>\n",
       "      <td>1.022838</td>\n",
       "      <td>3.440577</td>\n",
       "      <td>284.939519</td>\n",
       "      <td>0.161594</td>\n",
       "      <td>26979.954220</td>\n",
       "      <td>297199.424521</td>\n",
       "      <td>0.661259</td>\n",
       "      <td>0.772132</td>\n",
       "      <td>0.312143</td>\n",
       "    </tr>\n",
       "    <tr>\n",
       "      <th rowspan=\"3\" valign=\"top\">pso</th>\n",
       "      <th>bert</th>\n",
       "      <td>0.963290</td>\n",
       "      <td>3.322843</td>\n",
       "      <td>233.925577</td>\n",
       "      <td>0.144472</td>\n",
       "      <td>25132.526011</td>\n",
       "      <td>297561.246091</td>\n",
       "      <td>0.581882</td>\n",
       "      <td>0.695999</td>\n",
       "      <td>0.285670</td>\n",
       "    </tr>\n",
       "    <tr>\n",
       "      <th>roberta</th>\n",
       "      <td>0.984353</td>\n",
       "      <td>2.662876</td>\n",
       "      <td>230.490799</td>\n",
       "      <td>0.161640</td>\n",
       "      <td>25726.200211</td>\n",
       "      <td>300600.628729</td>\n",
       "      <td>0.605865</td>\n",
       "      <td>0.776980</td>\n",
       "      <td>0.361270</td>\n",
       "    </tr>\n",
       "    <tr>\n",
       "      <th>xlnet</th>\n",
       "      <td>1.047648</td>\n",
       "      <td>345.846711</td>\n",
       "      <td>234.055788</td>\n",
       "      <td>0.138780</td>\n",
       "      <td>24074.698064</td>\n",
       "      <td>289429.113146</td>\n",
       "      <td>0.639494</td>\n",
       "      <td>0.769481</td>\n",
       "      <td>0.348292</td>\n",
       "    </tr>\n",
       "    <tr>\n",
       "      <th rowspan=\"3\" valign=\"top\">textbugger</th>\n",
       "      <th>bert</th>\n",
       "      <td>1.068106</td>\n",
       "      <td>65211.331350</td>\n",
       "      <td>31.194115</td>\n",
       "      <td>0.597487</td>\n",
       "      <td>25729.357753</td>\n",
       "      <td>262252.043114</td>\n",
       "      <td>0.381469</td>\n",
       "      <td>0.749091</td>\n",
       "      <td>0.414496</td>\n",
       "    </tr>\n",
       "    <tr>\n",
       "      <th>roberta</th>\n",
       "      <td>1.004799</td>\n",
       "      <td>231582.387572</td>\n",
       "      <td>6.484680</td>\n",
       "      <td>0.708694</td>\n",
       "      <td>23212.180652</td>\n",
       "      <td>259538.146010</td>\n",
       "      <td>0.371873</td>\n",
       "      <td>0.854618</td>\n",
       "      <td>0.523651</td>\n",
       "    </tr>\n",
       "    <tr>\n",
       "      <th>xlnet</th>\n",
       "      <td>0.972810</td>\n",
       "      <td>180991.847083</td>\n",
       "      <td>19.576701</td>\n",
       "      <td>0.639741</td>\n",
       "      <td>24413.091381</td>\n",
       "      <td>262756.136114</td>\n",
       "      <td>0.407549</td>\n",
       "      <td>0.838123</td>\n",
       "      <td>0.485032</td>\n",
       "    </tr>\n",
       "    <tr>\n",
       "      <th rowspan=\"3\" valign=\"top\">textfooler</th>\n",
       "      <th>bert</th>\n",
       "      <td>1.318610</td>\n",
       "      <td>1.453042</td>\n",
       "      <td>122.531041</td>\n",
       "      <td>0.106079</td>\n",
       "      <td>30805.028282</td>\n",
       "      <td>209268.961697</td>\n",
       "      <td>0.349060</td>\n",
       "      <td>0.646343</td>\n",
       "      <td>0.416333</td>\n",
       "    </tr>\n",
       "    <tr>\n",
       "      <th>roberta</th>\n",
       "      <td>1.353950</td>\n",
       "      <td>1.404125</td>\n",
       "      <td>133.368419</td>\n",
       "      <td>0.120607</td>\n",
       "      <td>30389.504567</td>\n",
       "      <td>208945.362353</td>\n",
       "      <td>0.371130</td>\n",
       "      <td>0.782294</td>\n",
       "      <td>0.530305</td>\n",
       "    </tr>\n",
       "    <tr>\n",
       "      <th>xlnet</th>\n",
       "      <td>1.301719</td>\n",
       "      <td>1.674456</td>\n",
       "      <td>115.086610</td>\n",
       "      <td>0.097528</td>\n",
       "      <td>30141.892207</td>\n",
       "      <td>208621.868393</td>\n",
       "      <td>0.388015</td>\n",
       "      <td>0.729090</td>\n",
       "      <td>0.506700</td>\n",
       "    </tr>\n",
       "    <tr>\n",
       "      <th rowspan=\"3\" valign=\"top\">viper</th>\n",
       "      <th>bert</th>\n",
       "      <td>0.931414</td>\n",
       "      <td>9867.642464</td>\n",
       "      <td>-1.000000</td>\n",
       "      <td>0.617922</td>\n",
       "      <td>23633.312378</td>\n",
       "      <td>273026.216372</td>\n",
       "      <td>0.347872</td>\n",
       "      <td>0.788640</td>\n",
       "      <td>0.502020</td>\n",
       "    </tr>\n",
       "    <tr>\n",
       "      <th>roberta</th>\n",
       "      <td>0.930520</td>\n",
       "      <td>8302.840961</td>\n",
       "      <td>-1.000000</td>\n",
       "      <td>0.635145</td>\n",
       "      <td>22096.992376</td>\n",
       "      <td>275823.856606</td>\n",
       "      <td>0.280983</td>\n",
       "      <td>0.873053</td>\n",
       "      <td>0.641724</td>\n",
       "    </tr>\n",
       "    <tr>\n",
       "      <th>xlnet</th>\n",
       "      <td>1.234025</td>\n",
       "      <td>34942.697461</td>\n",
       "      <td>-1.000000</td>\n",
       "      <td>0.618628</td>\n",
       "      <td>26298.685873</td>\n",
       "      <td>250561.425519</td>\n",
       "      <td>0.394502</td>\n",
       "      <td>0.709796</td>\n",
       "      <td>0.406402</td>\n",
       "    </tr>\n",
       "  </tbody>\n",
       "</table>\n",
       "</div>"
      ],
      "text/plain": [
       "                             ground_truth    attack_time  num_queries  \\\n",
       "attack_name    target_model                                             \n",
       "bae            bert              1.119645       2.880698   112.571552   \n",
       "               roberta           1.010890       2.686720   117.219152   \n",
       "               xlnet             1.259161       1.968873    75.027756   \n",
       "clean          bert              0.330145       0.000000     0.000000   \n",
       "               roberta           0.339623       0.000000     0.000000   \n",
       "               xlnet             0.328041       0.000000     0.000000   \n",
       "deepwordbug    bert              1.116758     887.220235    33.738090   \n",
       "               roberta           1.027949     650.023521    76.053708   \n",
       "               xlnet             1.094843    1424.810480    33.631322   \n",
       "faster_genetic bert              1.215987       5.174106   377.359780   \n",
       "               roberta           0.954708       6.634903   376.666234   \n",
       "               xlnet             1.003502       6.357396   370.088493   \n",
       "genetic        bert              0.948759  220193.533800    32.024969   \n",
       "               roberta           0.923598  217969.710597    33.624126   \n",
       "               xlnet             1.100281  120007.837337    34.233511   \n",
       "hotflip        bert              1.019633   44586.609554    -1.000000   \n",
       "               roberta           1.093643   48612.679163    -1.000000   \n",
       "               xlnet             1.030961   93482.197661    -1.000000   \n",
       "iga_wang       bert              1.007416       1.625624   193.843598   \n",
       "               roberta           1.002514       1.502832   194.568567   \n",
       "               xlnet             1.073597       1.874970   195.091742   \n",
       "pruthi         bert              0.966818       3.046978   275.650434   \n",
       "               roberta           0.955705       2.673063   265.451198   \n",
       "               xlnet             1.022838       3.440577   284.939519   \n",
       "pso            bert              0.963290       3.322843   233.925577   \n",
       "               roberta           0.984353       2.662876   230.490799   \n",
       "               xlnet             1.047648     345.846711   234.055788   \n",
       "textbugger     bert              1.068106   65211.331350    31.194115   \n",
       "               roberta           1.004799  231582.387572     6.484680   \n",
       "               xlnet             0.972810  180991.847083    19.576701   \n",
       "textfooler     bert              1.318610       1.453042   122.531041   \n",
       "               roberta           1.353950       1.404125   133.368419   \n",
       "               xlnet             1.301719       1.674456   115.086610   \n",
       "viper          bert              0.931414    9867.642464    -1.000000   \n",
       "               roberta           0.930520    8302.840961    -1.000000   \n",
       "               xlnet             1.234025   34942.697461    -1.000000   \n",
       "\n",
       "                             frac_words_changed    test_index  \\\n",
       "attack_name    target_model                                     \n",
       "bae            bert                    0.078359  40252.306135   \n",
       "               roberta                 0.081963  43747.158042   \n",
       "               xlnet                   0.086008  40517.054265   \n",
       "clean          bert                    0.000000  59419.255075   \n",
       "               roberta                 0.000000  59414.547742   \n",
       "               xlnet                   0.000000  59421.859247   \n",
       "deepwordbug    bert                    0.239216  27643.341253   \n",
       "               roberta                 0.220862  24050.981087   \n",
       "               xlnet                   0.228253  27395.517183   \n",
       "faster_genetic bert                    0.080488  37981.209512   \n",
       "               roberta                 0.080655  63840.263961   \n",
       "               xlnet                   0.080806  62192.532707   \n",
       "genetic        bert                    0.222374  29912.245919   \n",
       "               roberta                 0.220926  31630.599530   \n",
       "               xlnet                   0.203315  33917.190815   \n",
       "hotflip        bert                    0.344296  29110.805978   \n",
       "               roberta                 0.358159  28115.635744   \n",
       "               xlnet                   0.316376  25655.342300   \n",
       "iga_wang       bert                    0.159026  27712.435421   \n",
       "               roberta                 0.177142  27785.625572   \n",
       "               xlnet                   0.155700  27042.962074   \n",
       "pruthi         bert                    0.169413  28224.604080   \n",
       "               roberta                 0.175599  29175.123617   \n",
       "               xlnet                   0.161594  26979.954220   \n",
       "pso            bert                    0.144472  25132.526011   \n",
       "               roberta                 0.161640  25726.200211   \n",
       "               xlnet                   0.138780  24074.698064   \n",
       "textbugger     bert                    0.597487  25729.357753   \n",
       "               roberta                 0.708694  23212.180652   \n",
       "               xlnet                   0.639741  24413.091381   \n",
       "textfooler     bert                    0.106079  30805.028282   \n",
       "               roberta                 0.120607  30389.504567   \n",
       "               xlnet                   0.097528  30141.892207   \n",
       "viper          bert                    0.617922  23633.312378   \n",
       "               roberta                 0.635145  22096.992376   \n",
       "               xlnet                   0.618628  26298.685873   \n",
       "\n",
       "                             original_text_identifier  \\\n",
       "attack_name    target_model                             \n",
       "bae            bert                     210057.203829   \n",
       "               roberta                  212425.765098   \n",
       "               xlnet                    204549.750741   \n",
       "clean          bert                     244436.896596   \n",
       "               roberta                  244438.587688   \n",
       "               xlnet                    244438.750718   \n",
       "deepwordbug    bert                     286027.910533   \n",
       "               roberta                  272819.248944   \n",
       "               xlnet                    284576.339558   \n",
       "faster_genetic bert                     213858.064007   \n",
       "               roberta                  230442.364123   \n",
       "               xlnet                    229242.510107   \n",
       "genetic        bert                     269742.710084   \n",
       "               roberta                  269167.935976   \n",
       "               xlnet                    261253.324762   \n",
       "hotflip        bert                     279269.114889   \n",
       "               roberta                  269984.604485   \n",
       "               xlnet                    263094.170056   \n",
       "iga_wang       bert                     298782.534481   \n",
       "               roberta                  303291.268167   \n",
       "               xlnet                    292509.499473   \n",
       "pruthi         bert                     300791.745095   \n",
       "               roberta                  300620.092521   \n",
       "               xlnet                    297199.424521   \n",
       "pso            bert                     297561.246091   \n",
       "               roberta                  300600.628729   \n",
       "               xlnet                    289429.113146   \n",
       "textbugger     bert                     262252.043114   \n",
       "               roberta                  259538.146010   \n",
       "               xlnet                    262756.136114   \n",
       "textfooler     bert                     209268.961697   \n",
       "               roberta                  208945.362353   \n",
       "               xlnet                    208621.868393   \n",
       "viper          bert                     273026.216372   \n",
       "               roberta                  275823.856606   \n",
       "               xlnet                    250561.425519   \n",
       "\n",
       "                             logit_difference_perturbed_text  \\\n",
       "attack_name    target_model                                    \n",
       "bae            bert                                 0.460985   \n",
       "               roberta                              0.519078   \n",
       "               xlnet                                0.496174   \n",
       "clean          bert                                 0.867173   \n",
       "               roberta                              0.902400   \n",
       "               xlnet                                0.905050   \n",
       "deepwordbug    bert                                 0.454396   \n",
       "               roberta                              0.407705   \n",
       "               xlnet                                0.504504   \n",
       "faster_genetic bert                                 0.446299   \n",
       "               roberta                              0.605274   \n",
       "               xlnet                                0.632057   \n",
       "genetic        bert                                 0.393651   \n",
       "               roberta                              0.408567   \n",
       "               xlnet                                0.481835   \n",
       "hotflip        bert                                 0.395213   \n",
       "               roberta                              0.380559   \n",
       "               xlnet                                0.404410   \n",
       "iga_wang       bert                                 0.517122   \n",
       "               roberta                              0.529430   \n",
       "               xlnet                                0.570553   \n",
       "pruthi         bert                                 0.598606   \n",
       "               roberta                              0.623774   \n",
       "               xlnet                                0.661259   \n",
       "pso            bert                                 0.581882   \n",
       "               roberta                              0.605865   \n",
       "               xlnet                                0.639494   \n",
       "textbugger     bert                                 0.381469   \n",
       "               roberta                              0.371873   \n",
       "               xlnet                                0.407549   \n",
       "textfooler     bert                                 0.349060   \n",
       "               roberta                              0.371130   \n",
       "               xlnet                                0.388015   \n",
       "viper          bert                                 0.347872   \n",
       "               roberta                              0.280983   \n",
       "               xlnet                                0.394502   \n",
       "\n",
       "                             logit_difference_original_text  \\\n",
       "attack_name    target_model                                   \n",
       "bae            bert                                0.676440   \n",
       "               roberta                             0.759578   \n",
       "               xlnet                               0.767913   \n",
       "clean          bert                                0.867173   \n",
       "               roberta                             0.902400   \n",
       "               xlnet                               0.905050   \n",
       "deepwordbug    bert                                0.766222   \n",
       "               roberta                             0.844659   \n",
       "               xlnet                               0.823132   \n",
       "faster_genetic bert                                0.557159   \n",
       "               roberta                             0.731829   \n",
       "               xlnet                               0.772449   \n",
       "genetic        bert                                0.723924   \n",
       "               roberta                             0.786547   \n",
       "               xlnet                               0.807364   \n",
       "hotflip        bert                                0.689209   \n",
       "               roberta                             0.764940   \n",
       "               xlnet                               0.781689   \n",
       "iga_wang       bert                                0.695264   \n",
       "               roberta                             0.766101   \n",
       "               xlnet                               0.761158   \n",
       "pruthi         bert                                0.704302   \n",
       "               roberta                             0.740572   \n",
       "               xlnet                               0.772132   \n",
       "pso            bert                                0.695999   \n",
       "               roberta                             0.776980   \n",
       "               xlnet                               0.769481   \n",
       "textbugger     bert                                0.749091   \n",
       "               roberta                             0.854618   \n",
       "               xlnet                               0.838123   \n",
       "textfooler     bert                                0.646343   \n",
       "               roberta                             0.782294   \n",
       "               xlnet                               0.729090   \n",
       "viper          bert                                0.788640   \n",
       "               roberta                             0.873053   \n",
       "               xlnet                               0.709796   \n",
       "\n",
       "                             original_to_perturbed_logit_second_difference  \n",
       "attack_name    target_model                                                 \n",
       "bae            bert                                               0.331331  \n",
       "               roberta                                            0.372071  \n",
       "               xlnet                                              0.391646  \n",
       "clean          bert                                               0.000000  \n",
       "               roberta                                            0.000000  \n",
       "               xlnet                                              0.000000  \n",
       "deepwordbug    bert                                               0.397289  \n",
       "               roberta                                            0.516914  \n",
       "               xlnet                                              0.426549  \n",
       "faster_genetic bert                                               0.294044  \n",
       "               roberta                                            0.342389  \n",
       "               xlnet                                              0.320120  \n",
       "genetic        bert                                               0.414925  \n",
       "               roberta                                            0.467900  \n",
       "               xlnet                                              0.426158  \n",
       "hotflip        bert                                               0.367122  \n",
       "               roberta                                            0.460346  \n",
       "               xlnet                                              0.452106  \n",
       "iga_wang       bert                                               0.332879  \n",
       "               roberta                                            0.403872  \n",
       "               xlnet                                              0.390734  \n",
       "pruthi         bert                                               0.271029  \n",
       "               roberta                                            0.335916  \n",
       "               xlnet                                              0.312143  \n",
       "pso            bert                                               0.285670  \n",
       "               roberta                                            0.361270  \n",
       "               xlnet                                              0.348292  \n",
       "textbugger     bert                                               0.414496  \n",
       "               roberta                                            0.523651  \n",
       "               xlnet                                              0.485032  \n",
       "textfooler     bert                                               0.416333  \n",
       "               roberta                                            0.530305  \n",
       "               xlnet                                              0.506700  \n",
       "viper          bert                                               0.502020  \n",
       "               roberta                                            0.641724  \n",
       "               xlnet                                              0.406402  "
      ]
     },
     "execution_count": 41,
     "metadata": {},
     "output_type": "execute_result"
    }
   ],
   "source": [
    "tcab_train.groupby(['attack_name', 'target_model']).mean()"
   ]
  },
  {
   "cell_type": "code",
   "execution_count": 16,
   "id": "2a3a8130-1d70-4cbd-b248-a72e5271b772",
   "metadata": {},
   "outputs": [
    {
     "name": "stdout",
     "output_type": "stream",
     "text": [
      "clean      388458\n",
      "success    197009\n",
      "Name: status, dtype: int64\n",
      "success    699378\n",
      "clean      163906\n",
      "Name: status, dtype: int64\n"
     ]
    }
   ],
   "source": [
    "for scenario in tcab_train.scenario.unique():\n",
    "    \n",
    "    print(tcab_train[tcab_train.scenario == scenario].status.value_counts())"
   ]
  },
  {
   "cell_type": "code",
   "execution_count": 20,
   "id": "a3b4d2c8-47f5-446c-a372-6c92949de215",
   "metadata": {},
   "outputs": [
    {
     "data": {
      "text/plain": [
       "(0.9999649866895197, 5.699999999775329e-07)"
      ]
     },
     "execution_count": 20,
     "metadata": {},
     "output_type": "execute_result"
    }
   ],
   "source": [
    "max(tcab_train[tcab_train.status == 'success'].logit_difference_perturbed_text), min(tcab_train[tcab_train.status == 'success'].logit_difference_perturbed_text)"
   ]
  },
  {
   "cell_type": "code",
   "execution_count": 21,
   "id": "2114cd3f-17f2-47df-b57f-6d41abc7e59b",
   "metadata": {},
   "outputs": [
    {
     "data": {
      "text/plain": [
       "(0.9999817415092099, 3.489999999994886e-06)"
      ]
     },
     "execution_count": 21,
     "metadata": {},
     "output_type": "execute_result"
    }
   ],
   "source": [
    "max(tcab_train[tcab_train.status != 'success'].logit_difference_perturbed_text), min(tcab_train[tcab_train.status != 'success'].logit_difference_perturbed_text)"
   ]
  },
  {
   "cell_type": "code",
   "execution_count": 42,
   "id": "e150a6a5-c09d-48dc-8dca-27b572ad6cf1",
   "metadata": {
    "scrolled": true
   },
   "outputs": [
    {
     "data": {
      "text/html": [
       "<div>\n",
       "<style scoped>\n",
       "    .dataframe tbody tr th:only-of-type {\n",
       "        vertical-align: middle;\n",
       "    }\n",
       "\n",
       "    .dataframe tbody tr th {\n",
       "        vertical-align: top;\n",
       "    }\n",
       "\n",
       "    .dataframe thead th {\n",
       "        text-align: right;\n",
       "    }\n",
       "</style>\n",
       "<table border=\"1\" class=\"dataframe\">\n",
       "  <thead>\n",
       "    <tr style=\"text-align: right;\">\n",
       "      <th></th>\n",
       "      <th>scenario</th>\n",
       "      <th>target_model_dataset</th>\n",
       "      <th>target_model_train_dataset</th>\n",
       "      <th>target_model</th>\n",
       "      <th>attack_toolchain</th>\n",
       "      <th>attack_name</th>\n",
       "      <th>original_text</th>\n",
       "      <th>original_output</th>\n",
       "      <th>ground_truth</th>\n",
       "      <th>status</th>\n",
       "      <th>...</th>\n",
       "      <th>attack_time</th>\n",
       "      <th>num_queries</th>\n",
       "      <th>frac_words_changed</th>\n",
       "      <th>test_index</th>\n",
       "      <th>original_text_identifier</th>\n",
       "      <th>unique_src_instance_identifier</th>\n",
       "      <th>pk</th>\n",
       "      <th>logit_difference_perturbed_text</th>\n",
       "      <th>logit_difference_original_text</th>\n",
       "      <th>original_to_perturbed_logit_second_difference</th>\n",
       "    </tr>\n",
       "  </thead>\n",
       "  <tbody>\n",
       "    <tr>\n",
       "      <th>198339</th>\n",
       "      <td>abuse</td>\n",
       "      <td>civil_comments</td>\n",
       "      <td>civil_comments</td>\n",
       "      <td>xlnet</td>\n",
       "      <td>none</td>\n",
       "      <td>clean</td>\n",
       "      <td>The timing isn't all that surprising... Interc...</td>\n",
       "      <td>[9.99990871e-01 9.12949079e-06]</td>\n",
       "      <td>0</td>\n",
       "      <td>clean</td>\n",
       "      <td>...</td>\n",
       "      <td>0.000000</td>\n",
       "      <td>0</td>\n",
       "      <td>0.000000</td>\n",
       "      <td>65312</td>\n",
       "      <td>302360</td>\n",
       "      <td>('civil_comments', 65312, 302360)</td>\n",
       "      <td>('clean', 'none', 302360, 'abuse', 'xlnet', 'c...</td>\n",
       "      <td>9.999817e-01</td>\n",
       "      <td>0.999982</td>\n",
       "      <td>0.000000</td>\n",
       "    </tr>\n",
       "    <tr>\n",
       "      <th>368388</th>\n",
       "      <td>abuse</td>\n",
       "      <td>civil_comments</td>\n",
       "      <td>civil_comments</td>\n",
       "      <td>xlnet</td>\n",
       "      <td>none</td>\n",
       "      <td>clean</td>\n",
       "      <td>It was already known at the time Premier Clark...</td>\n",
       "      <td>[9.99990227e-01 9.77252542e-06]</td>\n",
       "      <td>0</td>\n",
       "      <td>clean</td>\n",
       "      <td>...</td>\n",
       "      <td>0.000000</td>\n",
       "      <td>0</td>\n",
       "      <td>0.000000</td>\n",
       "      <td>129913</td>\n",
       "      <td>214642</td>\n",
       "      <td>('civil_comments', 129913, 214642)</td>\n",
       "      <td>('clean', 'none', 214642, 'abuse', 'xlnet', 'c...</td>\n",
       "      <td>9.999805e-01</td>\n",
       "      <td>0.999980</td>\n",
       "      <td>0.000000</td>\n",
       "    </tr>\n",
       "    <tr>\n",
       "      <th>156430</th>\n",
       "      <td>abuse</td>\n",
       "      <td>civil_comments</td>\n",
       "      <td>civil_comments</td>\n",
       "      <td>xlnet</td>\n",
       "      <td>none</td>\n",
       "      <td>clean</td>\n",
       "      <td>Well, this article makes it clear that there w...</td>\n",
       "      <td>[9.99989865e-01 1.01352091e-05]</td>\n",
       "      <td>0</td>\n",
       "      <td>clean</td>\n",
       "      <td>...</td>\n",
       "      <td>0.000000</td>\n",
       "      <td>0</td>\n",
       "      <td>0.000000</td>\n",
       "      <td>49577</td>\n",
       "      <td>332774</td>\n",
       "      <td>('civil_comments', 49577, 332774)</td>\n",
       "      <td>('clean', 'none', 332774, 'abuse', 'xlnet', 'c...</td>\n",
       "      <td>9.999797e-01</td>\n",
       "      <td>0.999980</td>\n",
       "      <td>0.000000</td>\n",
       "    </tr>\n",
       "    <tr>\n",
       "      <th>136224</th>\n",
       "      <td>abuse</td>\n",
       "      <td>civil_comments</td>\n",
       "      <td>civil_comments</td>\n",
       "      <td>xlnet</td>\n",
       "      <td>none</td>\n",
       "      <td>clean</td>\n",
       "      <td>Could you clarify as to how the zoo is current...</td>\n",
       "      <td>[9.99989805e-01 1.01950118e-05]</td>\n",
       "      <td>0</td>\n",
       "      <td>clean</td>\n",
       "      <td>...</td>\n",
       "      <td>0.000000</td>\n",
       "      <td>0</td>\n",
       "      <td>0.000000</td>\n",
       "      <td>42144</td>\n",
       "      <td>139950</td>\n",
       "      <td>('civil_comments', 42144, 139950)</td>\n",
       "      <td>('clean', 'none', 139950, 'abuse', 'xlnet', 'c...</td>\n",
       "      <td>9.999796e-01</td>\n",
       "      <td>0.999980</td>\n",
       "      <td>0.000000</td>\n",
       "    </tr>\n",
       "    <tr>\n",
       "      <th>31052</th>\n",
       "      <td>abuse</td>\n",
       "      <td>civil_comments</td>\n",
       "      <td>civil_comments</td>\n",
       "      <td>xlnet</td>\n",
       "      <td>none</td>\n",
       "      <td>clean</td>\n",
       "      <td>Adding in, again, a piece from the past, and t...</td>\n",
       "      <td>[9.9998970e-01 1.0300323e-05]</td>\n",
       "      <td>0</td>\n",
       "      <td>clean</td>\n",
       "      <td>...</td>\n",
       "      <td>0.000000</td>\n",
       "      <td>0</td>\n",
       "      <td>0.000000</td>\n",
       "      <td>2160</td>\n",
       "      <td>112086</td>\n",
       "      <td>('civil_comments', 2160, 112086)</td>\n",
       "      <td>('clean', 'none', 112086, 'abuse', 'xlnet', 'c...</td>\n",
       "      <td>9.999794e-01</td>\n",
       "      <td>0.999979</td>\n",
       "      <td>0.000000</td>\n",
       "    </tr>\n",
       "    <tr>\n",
       "      <th>...</th>\n",
       "      <td>...</td>\n",
       "      <td>...</td>\n",
       "      <td>...</td>\n",
       "      <td>...</td>\n",
       "      <td>...</td>\n",
       "      <td>...</td>\n",
       "      <td>...</td>\n",
       "      <td>...</td>\n",
       "      <td>...</td>\n",
       "      <td>...</td>\n",
       "      <td>...</td>\n",
       "      <td>...</td>\n",
       "      <td>...</td>\n",
       "      <td>...</td>\n",
       "      <td>...</td>\n",
       "      <td>...</td>\n",
       "      <td>...</td>\n",
       "      <td>...</td>\n",
       "      <td>...</td>\n",
       "      <td>...</td>\n",
       "      <td>...</td>\n",
       "    </tr>\n",
       "    <tr>\n",
       "      <th>908017</th>\n",
       "      <td>sentiment</td>\n",
       "      <td>sst</td>\n",
       "      <td>sst</td>\n",
       "      <td>bert</td>\n",
       "      <td>openattack</td>\n",
       "      <td>viper</td>\n",
       "      <td>is better than any summer blockbuster</td>\n",
       "      <td>[0.03767817 0.9623219 ]</td>\n",
       "      <td>1</td>\n",
       "      <td>success</td>\n",
       "      <td>...</td>\n",
       "      <td>8163.970071</td>\n",
       "      <td>-1</td>\n",
       "      <td>0.666667</td>\n",
       "      <td>32235</td>\n",
       "      <td>422186</td>\n",
       "      <td>('sst', 32235, 422186)</td>\n",
       "      <td>('viper', 'openattack', 422186, 'sentiment', '...</td>\n",
       "      <td>2.400000e-06</td>\n",
       "      <td>0.924644</td>\n",
       "      <td>0.924641</td>\n",
       "    </tr>\n",
       "    <tr>\n",
       "      <th>934107</th>\n",
       "      <td>sentiment</td>\n",
       "      <td>imdb</td>\n",
       "      <td>imdb</td>\n",
       "      <td>roberta</td>\n",
       "      <td>openattack</td>\n",
       "      <td>textbugger</td>\n",
       "      <td>044: The Big Trail (1930) - released 10/24/193...</td>\n",
       "      <td>[0.09514022 0.90485984]</td>\n",
       "      <td>1</td>\n",
       "      <td>success</td>\n",
       "      <td>...</td>\n",
       "      <td>265736.994914</td>\n",
       "      <td>-1</td>\n",
       "      <td>1.005111</td>\n",
       "      <td>2239</td>\n",
       "      <td>94423</td>\n",
       "      <td>('imdb', 2239, 94423)</td>\n",
       "      <td>('textbugger', 'openattack', 94423, 'sentiment...</td>\n",
       "      <td>1.760000e-06</td>\n",
       "      <td>0.809720</td>\n",
       "      <td>0.809718</td>\n",
       "    </tr>\n",
       "    <tr>\n",
       "      <th>1396608</th>\n",
       "      <td>sentiment</td>\n",
       "      <td>climate-change_waterloo</td>\n",
       "      <td>climate-change_waterloo</td>\n",
       "      <td>roberta</td>\n",
       "      <td>textattack</td>\n",
       "      <td>textfooler</td>\n",
       "      <td>Upside: forecast no longer includes temps in t...</td>\n",
       "      <td>[0.006995252799242735, 0.027809487655758858, 0...</td>\n",
       "      <td>2</td>\n",
       "      <td>success</td>\n",
       "      <td>...</td>\n",
       "      <td>0.491919</td>\n",
       "      <td>64</td>\n",
       "      <td>0.074074</td>\n",
       "      <td>26958</td>\n",
       "      <td>325306</td>\n",
       "      <td>('climate-change_waterloo', 26958, 325306)</td>\n",
       "      <td>('textfooler', 'textattack', 325306, 'sentimen...</td>\n",
       "      <td>1.192093e-06</td>\n",
       "      <td>0.958200</td>\n",
       "      <td>0.958199</td>\n",
       "    </tr>\n",
       "    <tr>\n",
       "      <th>1378748</th>\n",
       "      <td>sentiment</td>\n",
       "      <td>climate-change_waterloo</td>\n",
       "      <td>climate-change_waterloo</td>\n",
       "      <td>roberta</td>\n",
       "      <td>openattack</td>\n",
       "      <td>viper</td>\n",
       "      <td>Ever wonder why @TurnbullMalcolm #LNP gave $44...</td>\n",
       "      <td>[0.02121123 0.24779297 0.7309958 ]</td>\n",
       "      <td>2</td>\n",
       "      <td>success</td>\n",
       "      <td>...</td>\n",
       "      <td>9502.164781</td>\n",
       "      <td>-1</td>\n",
       "      <td>0.357143</td>\n",
       "      <td>25516</td>\n",
       "      <td>149900</td>\n",
       "      <td>('climate-change_waterloo', 25516, 149900)</td>\n",
       "      <td>('viper', 'openattack', 149900, 'sentiment', '...</td>\n",
       "      <td>1.120000e-06</td>\n",
       "      <td>0.709785</td>\n",
       "      <td>0.709783</td>\n",
       "    </tr>\n",
       "    <tr>\n",
       "      <th>188889</th>\n",
       "      <td>abuse</td>\n",
       "      <td>civil_comments</td>\n",
       "      <td>civil_comments</td>\n",
       "      <td>roberta</td>\n",
       "      <td>openattack</td>\n",
       "      <td>textbugger</td>\n",
       "      <td>oh yes there is, millions of them, and they ha...</td>\n",
       "      <td>[0.18119486 0.81880516]</td>\n",
       "      <td>1</td>\n",
       "      <td>success</td>\n",
       "      <td>...</td>\n",
       "      <td>20668.791794</td>\n",
       "      <td>-1</td>\n",
       "      <td>1.032787</td>\n",
       "      <td>61757</td>\n",
       "      <td>430558</td>\n",
       "      <td>('civil_comments', 61757, 430558)</td>\n",
       "      <td>('textbugger', 'openattack', 430558, 'abuse', ...</td>\n",
       "      <td>5.700000e-07</td>\n",
       "      <td>0.637610</td>\n",
       "      <td>0.637610</td>\n",
       "    </tr>\n",
       "  </tbody>\n",
       "</table>\n",
       "<p>1448751 rows × 22 columns</p>\n",
       "</div>"
      ],
      "text/plain": [
       "          scenario     target_model_dataset target_model_train_dataset  \\\n",
       "198339       abuse           civil_comments             civil_comments   \n",
       "368388       abuse           civil_comments             civil_comments   \n",
       "156430       abuse           civil_comments             civil_comments   \n",
       "136224       abuse           civil_comments             civil_comments   \n",
       "31052        abuse           civil_comments             civil_comments   \n",
       "...            ...                      ...                        ...   \n",
       "908017   sentiment                      sst                        sst   \n",
       "934107   sentiment                     imdb                       imdb   \n",
       "1396608  sentiment  climate-change_waterloo    climate-change_waterloo   \n",
       "1378748  sentiment  climate-change_waterloo    climate-change_waterloo   \n",
       "188889       abuse           civil_comments             civil_comments   \n",
       "\n",
       "        target_model attack_toolchain attack_name  \\\n",
       "198339         xlnet             none       clean   \n",
       "368388         xlnet             none       clean   \n",
       "156430         xlnet             none       clean   \n",
       "136224         xlnet             none       clean   \n",
       "31052          xlnet             none       clean   \n",
       "...              ...              ...         ...   \n",
       "908017          bert       openattack       viper   \n",
       "934107       roberta       openattack  textbugger   \n",
       "1396608      roberta       textattack  textfooler   \n",
       "1378748      roberta       openattack       viper   \n",
       "188889       roberta       openattack  textbugger   \n",
       "\n",
       "                                             original_text  \\\n",
       "198339   The timing isn't all that surprising... Interc...   \n",
       "368388   It was already known at the time Premier Clark...   \n",
       "156430   Well, this article makes it clear that there w...   \n",
       "136224   Could you clarify as to how the zoo is current...   \n",
       "31052    Adding in, again, a piece from the past, and t...   \n",
       "...                                                    ...   \n",
       "908017              is better than any summer blockbuster    \n",
       "934107   044: The Big Trail (1930) - released 10/24/193...   \n",
       "1396608  Upside: forecast no longer includes temps in t...   \n",
       "1378748  Ever wonder why @TurnbullMalcolm #LNP gave $44...   \n",
       "188889   oh yes there is, millions of them, and they ha...   \n",
       "\n",
       "                                           original_output  ground_truth  \\\n",
       "198339                     [9.99990871e-01 9.12949079e-06]             0   \n",
       "368388                     [9.99990227e-01 9.77252542e-06]             0   \n",
       "156430                     [9.99989865e-01 1.01352091e-05]             0   \n",
       "136224                     [9.99989805e-01 1.01950118e-05]             0   \n",
       "31052                        [9.9998970e-01 1.0300323e-05]             0   \n",
       "...                                                    ...           ...   \n",
       "908017                             [0.03767817 0.9623219 ]             1   \n",
       "934107                             [0.09514022 0.90485984]             1   \n",
       "1396608  [0.006995252799242735, 0.027809487655758858, 0...             2   \n",
       "1378748                 [0.02121123 0.24779297 0.7309958 ]             2   \n",
       "188889                             [0.18119486 0.81880516]             1   \n",
       "\n",
       "          status  ...    attack_time num_queries  frac_words_changed  \\\n",
       "198339     clean  ...       0.000000           0            0.000000   \n",
       "368388     clean  ...       0.000000           0            0.000000   \n",
       "156430     clean  ...       0.000000           0            0.000000   \n",
       "136224     clean  ...       0.000000           0            0.000000   \n",
       "31052      clean  ...       0.000000           0            0.000000   \n",
       "...          ...  ...            ...         ...                 ...   \n",
       "908017   success  ...    8163.970071          -1            0.666667   \n",
       "934107   success  ...  265736.994914          -1            1.005111   \n",
       "1396608  success  ...       0.491919          64            0.074074   \n",
       "1378748  success  ...    9502.164781          -1            0.357143   \n",
       "188889   success  ...   20668.791794          -1            1.032787   \n",
       "\n",
       "         test_index  original_text_identifier  \\\n",
       "198339        65312                    302360   \n",
       "368388       129913                    214642   \n",
       "156430        49577                    332774   \n",
       "136224        42144                    139950   \n",
       "31052          2160                    112086   \n",
       "...             ...                       ...   \n",
       "908017        32235                    422186   \n",
       "934107         2239                     94423   \n",
       "1396608       26958                    325306   \n",
       "1378748       25516                    149900   \n",
       "188889        61757                    430558   \n",
       "\n",
       "                     unique_src_instance_identifier  \\\n",
       "198339            ('civil_comments', 65312, 302360)   \n",
       "368388           ('civil_comments', 129913, 214642)   \n",
       "156430            ('civil_comments', 49577, 332774)   \n",
       "136224            ('civil_comments', 42144, 139950)   \n",
       "31052              ('civil_comments', 2160, 112086)   \n",
       "...                                             ...   \n",
       "908017                       ('sst', 32235, 422186)   \n",
       "934107                        ('imdb', 2239, 94423)   \n",
       "1396608  ('climate-change_waterloo', 26958, 325306)   \n",
       "1378748  ('climate-change_waterloo', 25516, 149900)   \n",
       "188889            ('civil_comments', 61757, 430558)   \n",
       "\n",
       "                                                        pk  \\\n",
       "198339   ('clean', 'none', 302360, 'abuse', 'xlnet', 'c...   \n",
       "368388   ('clean', 'none', 214642, 'abuse', 'xlnet', 'c...   \n",
       "156430   ('clean', 'none', 332774, 'abuse', 'xlnet', 'c...   \n",
       "136224   ('clean', 'none', 139950, 'abuse', 'xlnet', 'c...   \n",
       "31052    ('clean', 'none', 112086, 'abuse', 'xlnet', 'c...   \n",
       "...                                                    ...   \n",
       "908017   ('viper', 'openattack', 422186, 'sentiment', '...   \n",
       "934107   ('textbugger', 'openattack', 94423, 'sentiment...   \n",
       "1396608  ('textfooler', 'textattack', 325306, 'sentimen...   \n",
       "1378748  ('viper', 'openattack', 149900, 'sentiment', '...   \n",
       "188889   ('textbugger', 'openattack', 430558, 'abuse', ...   \n",
       "\n",
       "        logit_difference_perturbed_text logit_difference_original_text  \\\n",
       "198339                     9.999817e-01                       0.999982   \n",
       "368388                     9.999805e-01                       0.999980   \n",
       "156430                     9.999797e-01                       0.999980   \n",
       "136224                     9.999796e-01                       0.999980   \n",
       "31052                      9.999794e-01                       0.999979   \n",
       "...                                 ...                            ...   \n",
       "908017                     2.400000e-06                       0.924644   \n",
       "934107                     1.760000e-06                       0.809720   \n",
       "1396608                    1.192093e-06                       0.958200   \n",
       "1378748                    1.120000e-06                       0.709785   \n",
       "188889                     5.700000e-07                       0.637610   \n",
       "\n",
       "         original_to_perturbed_logit_second_difference  \n",
       "198339                                        0.000000  \n",
       "368388                                        0.000000  \n",
       "156430                                        0.000000  \n",
       "136224                                        0.000000  \n",
       "31052                                         0.000000  \n",
       "...                                                ...  \n",
       "908017                                        0.924641  \n",
       "934107                                        0.809718  \n",
       "1396608                                       0.958199  \n",
       "1378748                                       0.709783  \n",
       "188889                                        0.637610  \n",
       "\n",
       "[1448751 rows x 22 columns]"
      ]
     },
     "execution_count": 42,
     "metadata": {},
     "output_type": "execute_result"
    }
   ],
   "source": [
    "tcab_train.sort_values('logit_difference_perturbed_text', ascending=False)"
   ]
  },
  {
   "cell_type": "code",
   "execution_count": 49,
   "id": "e3385e6f",
   "metadata": {
    "scrolled": true
   },
   "outputs": [],
   "source": [
    "civil_comments_tcab_train = tcab_train[(tcab_train.target_model_dataset == 'civil_comments')\n",
    "                                      & (tcab_train.attack_name != 'clean')\n",
    "                                      ]"
   ]
  },
  {
   "cell_type": "code",
   "execution_count": 52,
   "id": "f7531b2e",
   "metadata": {},
   "outputs": [],
   "source": [
    "import sklearn\n",
    "from sklearn.model_selection import train_test_split"
   ]
  },
  {
   "cell_type": "code",
   "execution_count": 54,
   "id": "eb9da4fa",
   "metadata": {},
   "outputs": [],
   "source": [
    "X_train, X_test, y_train, y_test = train_test_split(civil_comments_tcab_train.perturbed_text, civil_comments_tcab_train.attack_name, test_size=0.2, random_state=42)"
   ]
  },
  {
   "cell_type": "code",
   "execution_count": 62,
   "id": "d0577afc",
   "metadata": {},
   "outputs": [],
   "source": [
    "from keras.preprocessing.text import Tokenizer\n",
    "vocab_size = 1000000\n",
    "oov_token = \"<OOV>\"\n",
    "tokenizer = Tokenizer(num_words = vocab_size, oov_token=oov_token)\n",
    "tokenizer.fit_on_texts(X_train)"
   ]
  },
  {
   "cell_type": "code",
   "execution_count": 63,
   "id": "e56d764d",
   "metadata": {},
   "outputs": [
    {
     "data": {
      "text/plain": [
       "{'<OOV>': 1,\n",
       " 'the': 2,\n",
       " 'to': 3,\n",
       " 'and': 4,\n",
       " 'a': 5,\n",
       " 'of': 6,\n",
       " 'is': 7,\n",
       " 'you': 8,\n",
       " 'in': 9,\n",
       " 'that': 10,\n",
       " 'are': 11,\n",
       " 'it': 12,\n",
       " 'i': 13,\n",
       " 'for': 14,\n",
       " 'this': 15,\n",
       " 'they': 16,\n",
       " 'not': 17,\n",
       " 'he': 18,\n",
       " 'be': 19,\n",
       " 'on': 20,\n",
       " 'with': 21,\n",
       " 'have': 22,\n",
       " 'as': 23,\n",
       " \"'\": 24,\n",
       " 'your': 25,\n",
       " 'all': 26,\n",
       " 'what': 27,\n",
       " 'but': 28,\n",
       " 'or': 29,\n",
       " 'was': 30,\n",
       " 'his': 31,\n",
       " 'who': 32,\n",
       " 'we': 33,\n",
       " 'so': 34,\n",
       " 'trump': 35,\n",
       " 'their': 36,\n",
       " 'if': 37,\n",
       " 'no': 38,\n",
       " 'people': 39,\n",
       " 'like': 40,\n",
       " 'just': 41,\n",
       " 'will': 42,\n",
       " 'an': 43,\n",
       " 'do': 44,\n",
       " 'by': 45,\n",
       " 'at': 46,\n",
       " 'about': 47,\n",
       " 'out': 48,\n",
       " 'up': 49,\n",
       " 's': 50,\n",
       " 'has': 51,\n",
       " 'from': 52,\n",
       " 'can': 53,\n",
       " 'one': 54,\n",
       " 'them': 55,\n",
       " 'would': 56,\n",
       " 'how': 57,\n",
       " 'get': 58,\n",
       " 'more': 59,\n",
       " 'when': 60,\n",
       " 'there': 61,\n",
       " 'our': 62,\n",
       " 't': 63,\n",
       " 'my': 64,\n",
       " \"don't\": 65,\n",
       " 'us': 66,\n",
       " 'these': 67,\n",
       " 'should': 68,\n",
       " 'any': 69,\n",
       " 'know': 70,\n",
       " 'him': 71,\n",
       " 'now': 72,\n",
       " 'right': 73,\n",
       " 'then': 74,\n",
       " 'because': 75,\n",
       " 'only': 76,\n",
       " 'were': 77,\n",
       " 'than': 78,\n",
       " 'why': 79,\n",
       " \"it's\": 80,\n",
       " 'me': 81,\n",
       " 'think': 82,\n",
       " 'been': 83,\n",
       " 'time': 84,\n",
       " 'being': 85,\n",
       " 'those': 86,\n",
       " 'some': 87,\n",
       " 'white': 88,\n",
       " 'other': 89,\n",
       " 'she': 90,\n",
       " 'her': 91,\n",
       " 'go': 92,\n",
       " 'see': 93,\n",
       " 'over': 94,\n",
       " 'even': 95,\n",
       " 'did': 96,\n",
       " 'had': 97,\n",
       " 'make': 98,\n",
       " 'too': 99,\n",
       " 'want': 100,\n",
       " 'say': 101,\n",
       " 'many': 102,\n",
       " 'never': 103,\n",
       " 'way': 104,\n",
       " 'good': 105,\n",
       " 'need': 106,\n",
       " 'much': 107,\n",
       " 'nothing': 108,\n",
       " 'really': 109,\n",
       " 'another': 110,\n",
       " 'back': 111,\n",
       " 'most': 112,\n",
       " 'world': 113,\n",
       " 'into': 114,\n",
       " 'here': 115,\n",
       " 'own': 116,\n",
       " 'same': 117,\n",
       " 'country': 118,\n",
       " 'going': 119,\n",
       " 'president': 120,\n",
       " 'well': 121,\n",
       " 'years': 122,\n",
       " 'off': 123,\n",
       " 'does': 124,\n",
       " 'its': 125,\n",
       " 'take': 126,\n",
       " 'which': 127,\n",
       " 'man': 128,\n",
       " 'where': 129,\n",
       " 'money': 130,\n",
       " 'very': 131,\n",
       " 'left': 132,\n",
       " 'government': 133,\n",
       " 'down': 134,\n",
       " 'e': 135,\n",
       " 'said': 136,\n",
       " \"can't\": 137,\n",
       " \"i'm\": 138,\n",
       " 'such': 139,\n",
       " 'thing': 140,\n",
       " 'am': 141,\n",
       " 'obama': 142,\n",
       " \"you're\": 143,\n",
       " \"that's\": 144,\n",
       " 'every': 145,\n",
       " 'keep': 146,\n",
       " 'could': 147,\n",
       " 'women': 148,\n",
       " 'anything': 149,\n",
       " 'stop': 150,\n",
       " 'look': 151,\n",
       " 'believe': 152,\n",
       " 'ever': 153,\n",
       " 'also': 154,\n",
       " 'against': 155,\n",
       " 'after': 156,\n",
       " 'put': 157,\n",
       " \"he's\": 158,\n",
       " 'vote': 159,\n",
       " 'canada': 160,\n",
       " 'got': 161,\n",
       " 'still': 162,\n",
       " 'while': 163,\n",
       " 'again': 164,\n",
       " 'work': 165,\n",
       " 'better': 166,\n",
       " 'come': 167,\n",
       " 'witless': 168,\n",
       " 'something': 169,\n",
       " 'liberal': 170,\n",
       " 'must': 171,\n",
       " 'te': 172,\n",
       " 'first': 173,\n",
       " 'enough': 174,\n",
       " 'before': 175,\n",
       " 'without': 176,\n",
       " 'state': 177,\n",
       " 'let': 178,\n",
       " 'anyone': 179,\n",
       " 'â': 180,\n",
       " 'day': 181,\n",
       " 'someone': 182,\n",
       " 'care': 183,\n",
       " 'america': 184,\n",
       " 'real': 185,\n",
       " 'news': 186,\n",
       " \"doesn't\": 187,\n",
       " 'life': 188,\n",
       " 'little': 189,\n",
       " 'person': 190,\n",
       " 'give': 191,\n",
       " 'old': 192,\n",
       " 'pay': 193,\n",
       " 'thê': 194,\n",
       " 'tĥe': 195,\n",
       " 'bad': 196,\n",
       " 'long': 197,\n",
       " 'hate': 198,\n",
       " 'comment': 199,\n",
       " 'yet': 200,\n",
       " 'yes': 201,\n",
       " 're': 202,\n",
       " 'support': 203,\n",
       " 'law': 204,\n",
       " 'sure': 205,\n",
       " 'hillary': 206,\n",
       " 'great': 207,\n",
       " 'clinton': 208,\n",
       " 'both': 209,\n",
       " 'th': 210,\n",
       " 'tax': 211,\n",
       " 'made': 212,\n",
       " 'american': 213,\n",
       " 'two': 214,\n",
       " 'guy': 215,\n",
       " 'actually': 216,\n",
       " 'big': 217,\n",
       " 'read': 218,\n",
       " 'oh': 219,\n",
       " 'things': 220,\n",
       " 'ad': 221,\n",
       " 'always': 222,\n",
       " 'help': 223,\n",
       " 'around': 224,\n",
       " 'through': 225,\n",
       " 'ẗhe': 226,\n",
       " 'everyone': 227,\n",
       " 'may': 228,\n",
       " 'new': 229,\n",
       " 'party': 230,\n",
       " 'year': 231,\n",
       " 'already': 232,\n",
       " 'doing': 233,\n",
       " 'call': 234,\n",
       " 'men': 235,\n",
       " 'makes': 236,\n",
       " 'tô': 237,\n",
       " 'liberals': 238,\n",
       " 'use': 239,\n",
       " 'media': 240,\n",
       " 'folks': 241,\n",
       " 'ẗo': 242,\n",
       " 'don': 243,\n",
       " 'black': 244,\n",
       " 'comments': 245,\n",
       " 'post': 246,\n",
       " 'last': 247,\n",
       " 'problem': 248,\n",
       " 'free': 249,\n",
       " 'thought': 250,\n",
       " 'far': 251,\n",
       " 'called': 252,\n",
       " 'donald': 253,\n",
       " 'since': 254,\n",
       " 'away': 255,\n",
       " 'fact': 256,\n",
       " 'everything': 257,\n",
       " 'show': 258,\n",
       " 'public': 259,\n",
       " 'racist': 260,\n",
       " 'under': 261,\n",
       " \"didn't\": 262,\n",
       " 'job': 263,\n",
       " 'house': 264,\n",
       " 'trudeau': 265,\n",
       " '1': 266,\n",
       " 'try': 267,\n",
       " 'tell': 268,\n",
       " 'point': 269,\n",
       " 'maybe': 270,\n",
       " 'making': 271,\n",
       " 'republicans': 272,\n",
       " 'less': 273,\n",
       " 'done': 274,\n",
       " 'needs': 275,\n",
       " 'wrong': 276,\n",
       " 'kind': 277,\n",
       " 'best': 278,\n",
       " 'themselves': 279,\n",
       " 'sad': 280,\n",
       " 'others': 281,\n",
       " 'family': 282,\n",
       " 'please': 283,\n",
       " 'saying': 284,\n",
       " 'run': 285,\n",
       " 'else': 286,\n",
       " 'hope': 287,\n",
       " 'political': 288,\n",
       " 'mean': 289,\n",
       " 'matter': 290,\n",
       " 'election': 291,\n",
       " 'canadian': 292,\n",
       " 'americans': 293,\n",
       " 'article': 294,\n",
       " 'democrats': 295,\n",
       " 'find': 296,\n",
       " 'himself': 297,\n",
       " 'either': 298,\n",
       " 'alaska': 299,\n",
       " 'next': 300,\n",
       " 'lot': 301,\n",
       " 'ôf': 302,\n",
       " '2': 303,\n",
       " 'used': 304,\n",
       " 'times': 305,\n",
       " 'whom': 306,\n",
       " 'understand': 307,\n",
       " 'might': 308,\n",
       " 'bill': 309,\n",
       " 'oḟ': 310,\n",
       " 'war': 311,\n",
       " 'd': 312,\n",
       " 'trying': 313,\n",
       " 'course': 314,\n",
       " 'office': 315,\n",
       " 'bunch': 316,\n",
       " 'getting': 317,\n",
       " 'ha': 318,\n",
       " 'part': 319,\n",
       " 'says': 320,\n",
       " 'feel': 321,\n",
       " 'm': 322,\n",
       " 'voted': 323,\n",
       " 'live': 324,\n",
       " 'least': 325,\n",
       " 'hard': 326,\n",
       " 'canadians': 327,\n",
       " 'children': 328,\n",
       " 'name': 329,\n",
       " 'oil': 330,\n",
       " \"isn't\": 331,\n",
       " 'nor': 332,\n",
       " 'end': 333,\n",
       " 'kids': 334,\n",
       " 'god': 335,\n",
       " 'power': 336,\n",
       " 'anti': 337,\n",
       " 'iŝ': 338,\n",
       " 'few': 339,\n",
       " 'aňd': 340,\n",
       " 'republican': 341,\n",
       " 'rest': 342,\n",
       " 'etc': 343,\n",
       " 'system': 344,\n",
       " 'true': 345,\n",
       " 'business': 346,\n",
       " 'ând': 347,\n",
       " 'îs': 348,\n",
       " 'anḑ': 349,\n",
       " 'nation': 350,\n",
       " 'self': 351,\n",
       " 'states': 352,\n",
       " 'probably': 353,\n",
       " 'change': 354,\n",
       " 'yourself': 355,\n",
       " 'rights': 356,\n",
       " 'having': 357,\n",
       " 'reason': 358,\n",
       " 'uninformed': 359,\n",
       " 'woman': 360,\n",
       " 'head': 361,\n",
       " 'history': 362,\n",
       " 'love': 363,\n",
       " 'w': 364,\n",
       " 'neither': 365,\n",
       " 'mr': 366,\n",
       " 'police': 367,\n",
       " 'seems': 368,\n",
       " 'poor': 369,\n",
       " 'conservative': 370,\n",
       " 'working': 371,\n",
       " 'taxes': 372,\n",
       " 'u': 373,\n",
       " '3': 374,\n",
       " 'agree': 375,\n",
       " 'high': 376,\n",
       " 'idea': 377,\n",
       " 'fake': 378,\n",
       " 'lost': 379,\n",
       " 'though': 380,\n",
       " 'lies': 381,\n",
       " 'full': 382,\n",
       " 'million': 383,\n",
       " 'per': 384,\n",
       " 'jobs': 385,\n",
       " 'health': 386,\n",
       " \"trump's\": 387,\n",
       " 'wing': 388,\n",
       " 'once': 389,\n",
       " 'bs': 390,\n",
       " 'whole': 391,\n",
       " 'school': 392,\n",
       " 'face': 393,\n",
       " 'different': 394,\n",
       " 'city': 395,\n",
       " 'wants': 396,\n",
       " 'lie': 397,\n",
       " 'n': 398,\n",
       " '”': 399,\n",
       " 'lol': 400,\n",
       " 'start': 401,\n",
       " '10': 402,\n",
       " 'gets': 403,\n",
       " 'talking': 404,\n",
       " 'until': 405,\n",
       " 'instead': 406,\n",
       " 'means': 407,\n",
       " 'coming': 408,\n",
       " 'elected': 409,\n",
       " 'worse': 410,\n",
       " 'wonder': 411,\n",
       " 'hand': 412,\n",
       " 'human': 413,\n",
       " 'corrupt': 414,\n",
       " 'pretty': 415,\n",
       " 'ago': 416,\n",
       " 'stand': 417,\n",
       " 'issue': 418,\n",
       " 'y': 419,\n",
       " 'stuff': 420,\n",
       " 'knows': 421,\n",
       " 'ok': 422,\n",
       " 'place': 423,\n",
       " 'blame': 424,\n",
       " 'guess': 425,\n",
       " 'non': 426,\n",
       " 'boy': 427,\n",
       " 'talk': 428,\n",
       " 'calling': 429,\n",
       " 'russia': 430,\n",
       " 'wow': 431,\n",
       " 'home': 432,\n",
       " 'sex': 433,\n",
       " \"they're\": 434,\n",
       " 'told': 435,\n",
       " 'story': 436,\n",
       " 'simply': 437,\n",
       " 'majority': 438,\n",
       " 'young': 439,\n",
       " 'case': 440,\n",
       " 'reality': 441,\n",
       " 'muslims': 442,\n",
       " 'move': 443,\n",
       " 'sense': 444,\n",
       " 'preposterous': 445,\n",
       " 'cannot': 446,\n",
       " 'remember': 447,\n",
       " 'lives': 448,\n",
       " 'mind': 449,\n",
       " 'watch': 450,\n",
       " 'tĥê': 451,\n",
       " 'crime': 452,\n",
       " 'yeah': 453,\n",
       " 'truth': 454,\n",
       " 'deal': 455,\n",
       " 'jester': 456,\n",
       " \"won't\": 457,\n",
       " 'perhaps': 458,\n",
       " 'com': 459,\n",
       " 'become': 460,\n",
       " 'able': 461,\n",
       " \"let's\": 462,\n",
       " 'r': 463,\n",
       " 'sexual': 464,\n",
       " 'seen': 465,\n",
       " 'child': 466,\n",
       " 'gun': 467,\n",
       " 'words': 468,\n",
       " 'days': 469,\n",
       " 'în': 470,\n",
       " 'î': 471,\n",
       " 'today': 472,\n",
       " 'across': 473,\n",
       " 'politicians': 474,\n",
       " 'ẗhê': 475,\n",
       " 'illegal': 476,\n",
       " 'iň': 477,\n",
       " 'paid': 478,\n",
       " 'guys': 479,\n",
       " 'word': 480,\n",
       " 'act': 481,\n",
       " 'comes': 482,\n",
       " 'voters': 483,\n",
       " 'continue': 484,\n",
       " 'behind': 485,\n",
       " 'past': 486,\n",
       " 'sorry': 487,\n",
       " 'thinking': 488,\n",
       " 'running': 489,\n",
       " 'racism': 490,\n",
       " 'muslim': 491,\n",
       " 'paying': 492,\n",
       " '5': 493,\n",
       " 'o': 494,\n",
       " 'game': 495,\n",
       " 'side': 496,\n",
       " 'millions': 497,\n",
       " 'small': 498,\n",
       " 'wait': 499,\n",
       " 'lying': 500,\n",
       " 'supporters': 501,\n",
       " 'facts': 502,\n",
       " 'kill': 503,\n",
       " 'russian': 504,\n",
       " 'rather': 505,\n",
       " 'hell': 506,\n",
       " 'nice': 507,\n",
       " 'won': 508,\n",
       " 'truly': 509,\n",
       " 'drifter': 510,\n",
       " 'ones': 511,\n",
       " 'taking': 512,\n",
       " 'countries': 513,\n",
       " '000': 514,\n",
       " 'control': 515,\n",
       " 'cut': 516,\n",
       " 'each': 517,\n",
       " 'term': 518,\n",
       " 'ẗĥe': 519,\n",
       " 'society': 520,\n",
       " 'goes': 521,\n",
       " 'national': 522,\n",
       " 'punchy': 523,\n",
       " 'clearly': 524,\n",
       " 'community': 525,\n",
       " 'dopey': 526,\n",
       " 'allowed': 527,\n",
       " '100': 528,\n",
       " 'ignorance': 529,\n",
       " 'nonsensical': 530,\n",
       " 'group': 531,\n",
       " 'usa': 532,\n",
       " 'question': 533,\n",
       " 'soon': 534,\n",
       " 'absolutely': 535,\n",
       " 'play': 536,\n",
       " 'h': 537,\n",
       " 'economy': 538,\n",
       " 'hey': 539,\n",
       " 'fix': 540,\n",
       " 'f': 541,\n",
       " 'stay': 542,\n",
       " 'based': 543,\n",
       " \"aren't\": 544,\n",
       " 'al': 545,\n",
       " 'sick': 546,\n",
       " 'laws': 547,\n",
       " 'foreign': 548,\n",
       " 'rich': 549,\n",
       " 'living': 550,\n",
       " 'opinion': 551,\n",
       " 'middle': 552,\n",
       " 'complete': 553,\n",
       " 'line': 554,\n",
       " 'quite': 555,\n",
       " 'seem': 556,\n",
       " 'funny': 557,\n",
       " 'entire': 558,\n",
       " 'race': 559,\n",
       " 'except': 560,\n",
       " 'unless': 561,\n",
       " 'thanks': 562,\n",
       " 'common': 563,\n",
       " 'ẗô': 564,\n",
       " 'cause': 565,\n",
       " 'federal': 566,\n",
       " 'united': 567,\n",
       " 'ill': 568,\n",
       " 'yôu': 569,\n",
       " 'class': 570,\n",
       " 'statement': 571,\n",
       " 'leave': 572,\n",
       " 'violence': 573,\n",
       " \"there's\": 574,\n",
       " 'plan': 575,\n",
       " 'expect': 576,\n",
       " '’': 577,\n",
       " 'civil': 578,\n",
       " \"we're\": 579,\n",
       " 'killing': 580,\n",
       " 'scarcely': 581,\n",
       " 'along': 582,\n",
       " 'almost': 583,\n",
       " 'looking': 584,\n",
       " 'lose': 585,\n",
       " 'onto': 586,\n",
       " '4': 587,\n",
       " 'ŷou': 588,\n",
       " 'citizens': 589,\n",
       " \"i've\": 590,\n",
       " 'took': 591,\n",
       " 'single': 592,\n",
       " 'legal': 593,\n",
       " 'll': 594,\n",
       " 'yoǔ': 595,\n",
       " 'top': 596,\n",
       " 'land': 597,\n",
       " 'example': 598,\n",
       " 'attack': 599,\n",
       " 'putin': 600,\n",
       " 'shut': 601,\n",
       " 'leader': 602,\n",
       " 'killed': 603,\n",
       " 'fire': 604,\n",
       " 'thank': 605,\n",
       " 'evil': 606,\n",
       " 'certainly': 607,\n",
       " 'turn': 608,\n",
       " 'www': 609,\n",
       " 'problems': 610,\n",
       " 'cost': 611,\n",
       " 'private': 612,\n",
       " 'wanted': 613,\n",
       " 'went': 614,\n",
       " 'brain': 615,\n",
       " 'friends': 616,\n",
       " 'social': 617,\n",
       " 'evidence': 618,\n",
       " 'leaders': 619,\n",
       " 'behavior': 620,\n",
       " 'candidate': 621,\n",
       " 'during': 622,\n",
       " 'upon': 623,\n",
       " 'exactly': 624,\n",
       " 'death': 625,\n",
       " 'known': 626,\n",
       " 'military': 627,\n",
       " 'between': 628,\n",
       " 'answer': 629,\n",
       " 'nonsense': 630,\n",
       " 'religion': 631,\n",
       " 'respect': 632,\n",
       " 'car': 633,\n",
       " 'church': 634,\n",
       " 'gone': 635,\n",
       " \"wouldn't\": 636,\n",
       " 'typical': 637,\n",
       " 'whatever': 638,\n",
       " 'islam': 639,\n",
       " 'criminal': 640,\n",
       " 'using': 641,\n",
       " 'especially': 642,\n",
       " 'foolish': 643,\n",
       " 'voting': 644,\n",
       " 'l': 645,\n",
       " 'votes': 646,\n",
       " 'completely': 647,\n",
       " '20': 648,\n",
       " 'team': 649,\n",
       " 'actions': 650,\n",
       " 'worst': 651,\n",
       " 'decades': 652,\n",
       " 'groups': 653,\n",
       " 'came': 654,\n",
       " \"wasn't\": 655,\n",
       " 'fear': 656,\n",
       " 'owns': 657,\n",
       " 'china': 658,\n",
       " 'laughable': 659,\n",
       " 'silly': 660,\n",
       " 'list': 661,\n",
       " 'seriously': 662,\n",
       " 'waste': 663,\n",
       " 'tried': 664,\n",
       " 'issues': 665,\n",
       " 'chance': 666,\n",
       " 'simple': 667,\n",
       " 'guns': 668,\n",
       " 'hear': 669,\n",
       " 'doofus': 670,\n",
       " 've': 671,\n",
       " 'terrorist': 672,\n",
       " 'refuse': 673,\n",
       " 'given': 674,\n",
       " 'ît': 675,\n",
       " 'shot': 676,\n",
       " 'iẗ': 677,\n",
       " 'bring': 678,\n",
       " 'pass': 679,\n",
       " 'learn': 680,\n",
       " 'ôḟ': 681,\n",
       " 'response': 682,\n",
       " 'knuckleheads': 683,\n",
       " 'politics': 684,\n",
       " 'happen': 685,\n",
       " 'speak': 686,\n",
       " 'hawaii': 687,\n",
       " 'happened': 688,\n",
       " 'looks': 689,\n",
       " 'gop': 690,\n",
       " 'yu': 691,\n",
       " 'bet': 692,\n",
       " 'low': 693,\n",
       " 'heard': 694,\n",
       " 'knew': 695,\n",
       " 'g': 696,\n",
       " 'campaign': 697,\n",
       " 'christian': 698,\n",
       " 'claim': 699,\n",
       " 'correct': 700,\n",
       " 'congress': 701,\n",
       " \"i'll\": 702,\n",
       " 'thinks': 703,\n",
       " 'likely': 704,\n",
       " 'crazy': 705,\n",
       " 'realize': 706,\n",
       " 'three': 707,\n",
       " 'wish': 708,\n",
       " 'gay': 709,\n",
       " 'shame': 710,\n",
       " \"what's\": 711,\n",
       " 'agenda': 712,\n",
       " 'win': 713,\n",
       " 'lack': 714,\n",
       " 'delude': 715,\n",
       " 'terrorists': 716,\n",
       " 'dead': 717,\n",
       " 'chief': 718,\n",
       " 'current': 719,\n",
       " 'clear': 720,\n",
       " 'mouth': 721,\n",
       " 'view': 722,\n",
       " 'giving': 723,\n",
       " 'ms': 724,\n",
       " 'buy': 725,\n",
       " \"you've\": 726,\n",
       " 'service': 727,\n",
       " 'telling': 728,\n",
       " 'however': 729,\n",
       " 'allow': 730,\n",
       " 'force': 731,\n",
       " 'rid': 732,\n",
       " 'spend': 733,\n",
       " '8': 734,\n",
       " 'nobody': 735,\n",
       " 'ask': 736,\n",
       " 'street': 737,\n",
       " 'justin': 738,\n",
       " 'piece': 739,\n",
       " 'p': 740,\n",
       " 'hold': 741,\n",
       " 'joke': 742,\n",
       " 'abuse': 743,\n",
       " 'wall': 744,\n",
       " 'smart': 745,\n",
       " 'c': 746,\n",
       " 'decision': 747,\n",
       " 'loves': 748,\n",
       " 'jail': 749,\n",
       " 'obviously': 750,\n",
       " 'speech': 751,\n",
       " 'open': 752,\n",
       " 'fair': 753,\n",
       " 'thousands': 754,\n",
       " 'possible': 755,\n",
       " 'attempt': 756,\n",
       " 'dog': 757,\n",
       " 'grow': 758,\n",
       " \"she's\": 759,\n",
       " 'reading': 760,\n",
       " 'half': 761,\n",
       " 'beyond': 762,\n",
       " 'cops': 763,\n",
       " 'âňd': 764,\n",
       " 'including': 765,\n",
       " 'doubt': 766,\n",
       " 'level': 767,\n",
       " 'number': 768,\n",
       " 'brainless': 769,\n",
       " 'die': 770,\n",
       " \"couldn't\": 771,\n",
       " 'îŝ': 772,\n",
       " 'aňḑ': 773,\n",
       " 'taken': 774,\n",
       " 'save': 775,\n",
       " 'somebody': 776,\n",
       " 'charge': 777,\n",
       " 'otherwise': 778,\n",
       " 'actual': 779,\n",
       " 'mayor': 780,\n",
       " 'moral': 781,\n",
       " 'attention': 782,\n",
       " 'choice': 783,\n",
       " 'b': 784,\n",
       " 'willing': 785,\n",
       " 'mentally': 786,\n",
       " 'proud': 787,\n",
       " 'shows': 788,\n",
       " 'longer': 789,\n",
       " 'climate': 790,\n",
       " 'mental': 791,\n",
       " 'doesn': 792,\n",
       " 'kid': 793,\n",
       " 'ânḑ': 794,\n",
       " 'education': 795,\n",
       " 'defend': 796,\n",
       " 'conservatives': 797,\n",
       " 'gave': 798,\n",
       " 'democrat': 799,\n",
       " 'further': 800,\n",
       " 'write': 801,\n",
       " 'none': 802,\n",
       " 'flag': 803,\n",
       " 'totally': 804,\n",
       " 'dollars': 805,\n",
       " 'outside': 806,\n",
       " 'propaganda': 807,\n",
       " 'globe': 808,\n",
       " 'argument': 809,\n",
       " 'air': 810,\n",
       " 'lets': 811,\n",
       " 'hatred': 812,\n",
       " 'set': 813,\n",
       " 'science': 814,\n",
       " 'playing': 815,\n",
       " 'leftist': 816,\n",
       " 'whose': 817,\n",
       " 'drug': 818,\n",
       " 'throw': 819,\n",
       " 'http': 820,\n",
       " 'ou': 821,\n",
       " 'fight': 822,\n",
       " 'south': 823,\n",
       " 'wife': 824,\n",
       " 'consider': 825,\n",
       " 'huge': 826,\n",
       " 'confound': 827,\n",
       " 'order': 828,\n",
       " 'âre': 829,\n",
       " 'personal': 830,\n",
       " 'safe': 831,\n",
       " 'crimes': 832,\n",
       " 'families': 833,\n",
       " 'second': 834,\n",
       " 'aře': 835,\n",
       " 'hands': 836,\n",
       " 'works': 837,\n",
       " 'debt': 838,\n",
       " 'posts': 839,\n",
       " 'several': 840,\n",
       " 'https': 841,\n",
       " 'difference': 842,\n",
       " 'male': 843,\n",
       " 'apparently': 844,\n",
       " 'losing': 845,\n",
       " 'fine': 846,\n",
       " 'takes': 847,\n",
       " 'ludicrous': 848,\n",
       " 'excuse': 849,\n",
       " 'usual': 850,\n",
       " 'became': 851,\n",
       " 'circa': 852,\n",
       " \"i'd\": 853,\n",
       " 'supremacist': 854,\n",
       " 'type': 855,\n",
       " 'future': 856,\n",
       " 'religious': 857,\n",
       " 'itself': 858,\n",
       " 'rape': 859,\n",
       " 'proven': 860,\n",
       " 'fôr': 861,\n",
       " 'zero': 862,\n",
       " 'destroy': 863,\n",
       " 'nazi': 864,\n",
       " 'special': 865,\n",
       " 'supposed': 866,\n",
       " 'industry': 867,\n",
       " 'press': 868,\n",
       " 'john': 869,\n",
       " 'follow': 870,\n",
       " 'nazis': 871,\n",
       " 'taxpayers': 872,\n",
       " 'important': 873,\n",
       " 'dangerous': 874,\n",
       " 'disagree': 875,\n",
       " 'blind': 876,\n",
       " 'born': 877,\n",
       " 'tonne': 878,\n",
       " 'bush': 879,\n",
       " 'sell': 880,\n",
       " 'together': 881,\n",
       " 'racists': 882,\n",
       " 'anymore': 883,\n",
       " 'age': 884,\n",
       " 'property': 885,\n",
       " 'glad': 886,\n",
       " 'east': 887,\n",
       " 'liar': 888,\n",
       " 'total': 889,\n",
       " 'budget': 890,\n",
       " 'check': 891,\n",
       " 'north': 892,\n",
       " 'needed': 893,\n",
       " 'interest': 894,\n",
       " 'protest': 895,\n",
       " 'failed': 896,\n",
       " 'earth': 897,\n",
       " 'supremacists': 898,\n",
       " 'ignorant': 899,\n",
       " 'alone': 900,\n",
       " 'obvious': 901,\n",
       " 'foř': 902,\n",
       " 'sound': 903,\n",
       " 'rail': 904,\n",
       " 'listen': 905,\n",
       " 'parents': 906,\n",
       " 'ḟor': 907,\n",
       " 'water': 908,\n",
       " 'room': 909,\n",
       " 'fat': 910,\n",
       " 'sit': 911,\n",
       " 'cares': 912,\n",
       " 'income': 913,\n",
       " '6': 914,\n",
       " 'trust': 915,\n",
       " 'girl': 916,\n",
       " 'enjoy': 917,\n",
       " 'greater': 918,\n",
       " 'friend': 919,\n",
       " 'nd': 920,\n",
       " 'involved': 921,\n",
       " 'criminals': 922,\n",
       " 'ôn': 923,\n",
       " 'policies': 924,\n",
       " 'bozos': 925,\n",
       " 'immigration': 926,\n",
       " 'arê': 927,\n",
       " 'harper': 928,\n",
       " 'corruption': 929,\n",
       " 'often': 930,\n",
       " 'worth': 931,\n",
       " '30': 932,\n",
       " 'ḃe': 933,\n",
       " 'serious': 934,\n",
       " '50': 935,\n",
       " 'forget': 936,\n",
       " 'thât': 937,\n",
       " 'protect': 938,\n",
       " 'former': 939,\n",
       " 'drive': 940,\n",
       " 'among': 941,\n",
       " 'pick': 942,\n",
       " 'book': 943,\n",
       " 'hypocrisy': 944,\n",
       " 'catholic': 945,\n",
       " 'building': 946,\n",
       " 'thaẗ': 947,\n",
       " 'higher': 948,\n",
       " 'company': 949,\n",
       " 'slow': 950,\n",
       " 'court': 951,\n",
       " 'weak': 952,\n",
       " 'nerds': 953,\n",
       " 'ignore': 954,\n",
       " 'unaware': 955,\n",
       " 'due': 956,\n",
       " 'fun': 957,\n",
       " 'near': 958,\n",
       " 'ĥe': 959,\n",
       " 'false': 960,\n",
       " 'bit': 961,\n",
       " 'assault': 962,\n",
       " 'fraud': 963,\n",
       " 'hit': 964,\n",
       " 'saw': 965,\n",
       " 'gas': 966,\n",
       " 'cretin': 967,\n",
       " 'bc': 968,\n",
       " 'turned': 969,\n",
       " 'supporting': 970,\n",
       " 'town': 971,\n",
       " 'ontario': 972,\n",
       " 'tĥat': 973,\n",
       " 'hê': 974,\n",
       " 'likes': 975,\n",
       " 'quit': 976,\n",
       " 'easy': 977,\n",
       " 'putting': 978,\n",
       " 'terms': 979,\n",
       " 'leadership': 980,\n",
       " 'drugs': 981,\n",
       " 'innocent': 982,\n",
       " 'population': 983,\n",
       " 'companies': 984,\n",
       " 'oň': 985,\n",
       " 'tired': 986,\n",
       " 'islamic': 987,\n",
       " 'whites': 988,\n",
       " 'responsible': 989,\n",
       " 'unfortunately': 990,\n",
       " 'culture': 991,\n",
       " 'found': 992,\n",
       " 'ridiculous': 993,\n",
       " 'position': 994,\n",
       " 'imagine': 995,\n",
       " 'stupid': 996,\n",
       " 'break': 997,\n",
       " 'bê': 998,\n",
       " 'close': 999,\n",
       " 'leaving': 1000,\n",
       " ...}"
      ]
     },
     "execution_count": 63,
     "metadata": {},
     "output_type": "execute_result"
    }
   ],
   "source": [
    "tokenizer.word_index"
   ]
  },
  {
   "cell_type": "code",
   "execution_count": 71,
   "id": "d800946d",
   "metadata": {},
   "outputs": [],
   "source": [
    "X_train_sequences = tokenizer.texts_to_sequences(X_train)\n",
    "X_test_sequences = tokenizer.texts_to_sequences(X_test)"
   ]
  },
  {
   "cell_type": "code",
   "execution_count": 66,
   "id": "77ee4bb7",
   "metadata": {},
   "outputs": [
    {
     "data": {
      "text/plain": [
       "[[2,\n",
       "  2050,\n",
       "  1383,\n",
       "  271,\n",
       "  125,\n",
       "  8626,\n",
       "  34815,\n",
       "  3,\n",
       "  98,\n",
       "  5,\n",
       "  21833,\n",
       "  4264,\n",
       "  14,\n",
       "  5,\n",
       "  16719,\n",
       "  24,\n",
       "  50,\n",
       "  23889,\n",
       "  86,\n",
       "  2154,\n",
       "  10838,\n",
       "  11,\n",
       "  13676,\n",
       "  10382,\n",
       "  3,\n",
       "  27855,\n",
       "  17464,\n",
       "  2,\n",
       "  12501,\n",
       "  9984,\n",
       "  4,\n",
       "  1030,\n",
       "  6,\n",
       "  31872,\n",
       "  39379,\n",
       "  510,\n",
       "  4,\n",
       "  31,\n",
       "  864,\n",
       "  2351,\n",
       "  16,\n",
       "  22,\n",
       "  379,\n",
       "  806,\n",
       "  19074,\n",
       "  473,\n",
       "  4063,\n",
       "  7625,\n",
       "  864,\n",
       "  650,\n",
       "  4,\n",
       "  12164,\n",
       "  3,\n",
       "  2018,\n",
       "  69,\n",
       "  34816,\n",
       "  15300,\n",
       "  21,\n",
       "  2,\n",
       "  11886,\n",
       "  23,\n",
       "  2,\n",
       "  1881,\n",
       "  34817,\n",
       "  1454,\n",
       "  36,\n",
       "  10622,\n",
       "  1676,\n",
       "  2,\n",
       "  1289,\n",
       "  3370,\n",
       "  7,\n",
       "  3581,\n",
       "  4,\n",
       "  16008,\n",
       "  23,\n",
       "  5290,\n",
       "  3,\n",
       "  69,\n",
       "  2840,\n",
       "  6,\n",
       "  6212,\n",
       "  4,\n",
       "  3867,\n",
       "  356,\n",
       "  941,\n",
       "  2,\n",
       "  691,\n",
       "  50,\n",
       "  9444,\n",
       "  69,\n",
       "  6666,\n",
       "  1227,\n",
       "  7,\n",
       "  26379,\n",
       "  384,\n",
       "  11371,\n",
       "  2903,\n",
       "  4360,\n",
       "  7281,\n",
       "  4832,\n",
       "  9248,\n",
       "  384,\n",
       "  2,\n",
       "  2093,\n",
       "  4494,\n",
       "  8914,\n",
       "  4,\n",
       "  25040,\n",
       "  11,\n",
       "  2,\n",
       "  2288,\n",
       "  5206,\n",
       "  13258,\n",
       "  26380,\n",
       "  3,\n",
       "  31873,\n",
       "  2,\n",
       "  15301,\n",
       "  6,\n",
       "  4034,\n",
       "  4035,\n",
       "  5097,\n",
       "  2195,\n",
       "  2601,\n",
       "  473,\n",
       "  2,\n",
       "  177,\n",
       "  4678,\n",
       "  7,\n",
       "  2,\n",
       "  1210,\n",
       "  3,\n",
       "  146,\n",
       "  69,\n",
       "  6,\n",
       "  67,\n",
       "  1542,\n",
       "  2155,\n",
       "  1044,\n",
       "  9,\n",
       "  554,\n",
       "  191,\n",
       "  81,\n",
       "  5,\n",
       "  997],\n",
       " [40, 1308, 40, 7176],\n",
       " [4,\n",
       "  129,\n",
       "  77,\n",
       "  67,\n",
       "  148,\n",
       "  6,\n",
       "  6913,\n",
       "  2,\n",
       "  247,\n",
       "  3249,\n",
       "  122,\n",
       "  23,\n",
       "  142,\n",
       "  4,\n",
       "  208,\n",
       "  6667,\n",
       "  148,\n",
       "  4,\n",
       "  1241,\n",
       "  6,\n",
       "  4580,\n",
       "  114,\n",
       "  7839,\n",
       "  26,\n",
       "  94,\n",
       "  2,\n",
       "  6213,\n",
       "  4,\n",
       "  1548,\n",
       "  53,\n",
       "  8,\n",
       "  269,\n",
       "  48,\n",
       "  69,\n",
       "  337,\n",
       "  311,\n",
       "  4003,\n",
       "  6,\n",
       "  16720,\n",
       "  9,\n",
       "  2,\n",
       "  486,\n",
       "  3249,\n",
       "  122,\n",
       "  622,\n",
       "  142,\n",
       "  24,\n",
       "  50,\n",
       "  16009,\n",
       "  9445,\n",
       "  1067,\n",
       "  2,\n",
       "  629,\n",
       "  7,\n",
       "  5,\n",
       "  20856,\n",
       "  38,\n",
       "  8,\n",
       "  53,\n",
       "  24,\n",
       "  63,\n",
       "  2,\n",
       "  529,\n",
       "  944,\n",
       "  4,\n",
       "  1904,\n",
       "  6,\n",
       "  12,\n",
       "  26,\n",
       "  7,\n",
       "  8367,\n",
       "  28,\n",
       "  12,\n",
       "  482,\n",
       "  134,\n",
       "  3,\n",
       "  15,\n",
       "  92,\n",
       "  649],\n",
       " [6140,\n",
       "  303,\n",
       "  47,\n",
       "  3,\n",
       "  1386,\n",
       "  80,\n",
       "  17,\n",
       "  174,\n",
       "  6,\n",
       "  5,\n",
       "  7840,\n",
       "  6,\n",
       "  31,\n",
       "  20857,\n",
       "  3496,\n",
       "  2,\n",
       "  2405,\n",
       "  2235,\n",
       "  10,\n",
       "  35,\n",
       "  3509,\n",
       "  744,\n",
       "  737,\n",
       "  11617,\n",
       "  4,\n",
       "  8513,\n",
       "  7947,\n",
       "  2855,\n",
       "  25041,\n",
       "  1751,\n",
       "  122,\n",
       "  46,\n",
       "  9787,\n",
       "  9788,\n",
       "  1102,\n",
       "  46,\n",
       "  3318,\n",
       "  1177,\n",
       "  2112,\n",
       "  4,\n",
       "  2306,\n",
       "  6356,\n",
       "  25042,\n",
       "  1987,\n",
       "  531,\n",
       "  23,\n",
       "  7078,\n",
       "  2577,\n",
       "  158,\n",
       "  47,\n",
       "  3,\n",
       "  4679,\n",
       "  23,\n",
       "  6357,\n",
       "  2577,\n",
       "  2,\n",
       "  128,\n",
       "  626,\n",
       "  20,\n",
       "  744,\n",
       "  737,\n",
       "  23,\n",
       "  2,\n",
       "  1432,\n",
       "  6,\n",
       "  3039,\n",
       "  25043,\n",
       "  12502,\n",
       "  11372,\n",
       "  10383,\n",
       "  110,\n",
       "  826,\n",
       "  1665,\n",
       "  17465,\n",
       "  3,\n",
       "  1187,\n",
       "  2,\n",
       "  2405,\n",
       "  539,\n",
       "  25044,\n",
       "  31874,\n",
       "  22,\n",
       "  8,\n",
       "  25045,\n",
       "  9,\n",
       "  200,\n",
       "  726,\n",
       "  83,\n",
       "  97],\n",
       " [57,\n",
       "  107,\n",
       "  330,\n",
       "  68,\n",
       "  19,\n",
       "  527,\n",
       "  3,\n",
       "  8915,\n",
       "  48,\n",
       "  6,\n",
       "  2,\n",
       "  1088,\n",
       "  60,\n",
       "  12,\n",
       "  7,\n",
       "  319,\n",
       "  6,\n",
       "  1988,\n",
       "  68,\n",
       "  1350,\n",
       "  8915,\n",
       "  19,\n",
       "  1194,\n",
       "  45,\n",
       "  128,\n",
       "  144,\n",
       "  43,\n",
       "  7003,\n",
       "  809,\n",
       "  144,\n",
       "  40,\n",
       "  284,\n",
       "  462,\n",
       "  17,\n",
       "  150,\n",
       "  5554,\n",
       "  179,\n",
       "  32,\n",
       "  1653,\n",
       "  5,\n",
       "  3833,\n",
       "  604,\n",
       "  75,\n",
       "  3833,\n",
       "  3162,\n",
       "  401,\n",
       "  4789,\n",
       "  1151,\n",
       "  38,\n",
       "  54,\n",
       "  320,\n",
       "  33,\n",
       "  68,\n",
       "  150,\n",
       "  26,\n",
       "  1350,\n",
       "  9082,\n",
       "  28,\n",
       "  10,\n",
       "  187,\n",
       "  289,\n",
       "  33,\n",
       "  68,\n",
       "  41,\n",
       "  178,\n",
       "  9613,\n",
       "  9082,\n",
       "  92,\n",
       "  11887],\n",
       " [2658,\n",
       "  15302,\n",
       "  2027,\n",
       "  7,\n",
       "  2,\n",
       "  117,\n",
       "  23,\n",
       "  10623,\n",
       "  2027,\n",
       "  9,\n",
       "  2,\n",
       "  9789,\n",
       "  4,\n",
       "  9790,\n",
       "  12,\n",
       "  7,\n",
       "  43,\n",
       "  4036,\n",
       "  3,\n",
       "  2,\n",
       "  11104,\n",
       "  1445,\n",
       "  4,\n",
       "  2262,\n",
       "  6,\n",
       "  2,\n",
       "  3119,\n",
       "  2,\n",
       "  117,\n",
       "  53,\n",
       "  19,\n",
       "  136,\n",
       "  6,\n",
       "  35,\n",
       "  21,\n",
       "  2,\n",
       "  3163,\n",
       "  6,\n",
       "  4461,\n",
       "  223],\n",
       " [5, 67173, 67174, 338, 2002, 9446, 6914],\n",
       " [15,\n",
       "  7,\n",
       "  1359,\n",
       "  212,\n",
       "  49,\n",
       "  673,\n",
       "  52,\n",
       "  5,\n",
       "  12860,\n",
       "  10624,\n",
       "  10,\n",
       "  504,\n",
       "  1810,\n",
       "  15303,\n",
       "  224,\n",
       "  2,\n",
       "  1893,\n",
       "  5944,\n",
       "  600,\n",
       "  1510,\n",
       "  21,\n",
       "  8],\n",
       " [1543,\n",
       "  54,\n",
       "  181,\n",
       "  2,\n",
       "  352,\n",
       "  42,\n",
       "  19,\n",
       "  43,\n",
       "  1300,\n",
       "  8,\n",
       "  2454,\n",
       "  3,\n",
       "  102,\n",
       "  705,\n",
       "  168,\n",
       "  39,\n",
       "  811,\n",
       "  287,\n",
       "  2,\n",
       "  342,\n",
       "  6,\n",
       "  2,\n",
       "  113,\n",
       "  2762,\n",
       "  1433,\n",
       "  5,\n",
       "  744,\n",
       "  3,\n",
       "  146,\n",
       "  8,\n",
       "  121,\n",
       "  2289,\n",
       "  9,\n",
       "  219,\n",
       "  4,\n",
       "  18296,\n",
       "  22,\n",
       "  3,\n",
       "  193,\n",
       "  14,\n",
       "  12,\n",
       "  3164,\n",
       "  897,\n",
       "  12861,\n",
       "  27,\n",
       "  76,\n",
       "  7,\n",
       "  2,\n",
       "  18297],\n",
       " [5, 11618, 7, 877, 145, 2406, 23, 4680, 45, 15, 3319, 2512]]"
      ]
     },
     "execution_count": 66,
     "metadata": {},
     "output_type": "execute_result"
    }
   ],
   "source": [
    "X_train_sequences[:10]"
   ]
  },
  {
   "cell_type": "code",
   "execution_count": 67,
   "id": "145566b3",
   "metadata": {},
   "outputs": [],
   "source": [
    "max_length = 100\n",
    "padding_type='post'\n",
    "truncation_type='post'"
   ]
  },
  {
   "cell_type": "code",
   "execution_count": 72,
   "id": "c6e0d4ff",
   "metadata": {},
   "outputs": [],
   "source": [
    "from keras.utils import pad_sequences\n",
    "\n",
    "X_train_padded = pad_sequences(X_train_sequences,maxlen=max_length, padding=padding_type, \n",
    "                       truncating=truncation_type)\n",
    "\n",
    "X_test_padded = pad_sequences(X_test_sequences,maxlen=max_length, \n",
    "                               padding=padding_type, truncating=truncation_type)"
   ]
  },
  {
   "cell_type": "code",
   "execution_count": 73,
   "id": "7008b12b",
   "metadata": {},
   "outputs": [
    {
     "data": {
      "text/plain": [
       "array([[    2,  2050,  1383, ...,  2903,  4360,  7281],\n",
       "       [   40,  1308,    40, ...,     0,     0,     0],\n",
       "       [    4,   129,    77, ...,     0,     0,     0],\n",
       "       ...,\n",
       "       [   38,  2358,    46, ...,     0,     0,     0],\n",
       "       [   80,    17,    91, ...,     0,     0,     0],\n",
       "       [ 4667, 13872,     0, ...,     0,     0,     0]])"
      ]
     },
     "execution_count": 73,
     "metadata": {},
     "output_type": "execute_result"
    }
   ],
   "source": [
    "X_train_padded"
   ]
  },
  {
   "cell_type": "code",
   "execution_count": 82,
   "id": "a32d1768",
   "metadata": {},
   "outputs": [
    {
     "name": "stdout",
     "output_type": "stream",
     "text": [
      "Found 400000 word vectors.\n"
     ]
    }
   ],
   "source": [
    "import numpy as np\n",
    "embeddings_index = {}\n",
    "f = open('../../../NLP/Semantic Processing/semantic_processing-main/Distributional Semantics/codes/glove.6B.300d.txt', encoding='utf8')\n",
    "for line in f:\n",
    "    values = line.split()\n",
    "    word = values[0]\n",
    "    coefs = np.asarray(values[1:], dtype='float32')\n",
    "    embeddings_index[word] = coefs\n",
    "f.close()\n",
    "\n",
    "print('Found %s word vectors.' % len(embeddings_index))"
   ]
  },
  {
   "cell_type": "code",
   "execution_count": 89,
   "id": "67a0e785",
   "metadata": {},
   "outputs": [
    {
     "data": {
      "text/plain": [
       "300"
      ]
     },
     "execution_count": 89,
     "metadata": {},
     "output_type": "execute_result"
    }
   ],
   "source": [
    "len(embeddings_index['about'])"
   ]
  },
  {
   "cell_type": "code",
   "execution_count": 90,
   "id": "3a08aa7d",
   "metadata": {},
   "outputs": [],
   "source": [
    "embedding_matrix = np.zeros((len(tokenizer.word_index) + 1, 300))\n",
    "for word, i in tokenizer.word_index.items():\n",
    "    embedding_vector = embeddings_index.get(word)\n",
    "    if embedding_vector is not None:\n",
    "        # words not found in embedding index will be all-zeros.\n",
    "        embedding_matrix[i] = embedding_vector"
   ]
  },
  {
   "cell_type": "code",
   "execution_count": null,
   "id": "e80707b7",
   "metadata": {},
   "outputs": [],
   "source": []
  },
  {
   "cell_type": "code",
   "execution_count": 122,
   "id": "95b604de",
   "metadata": {},
   "outputs": [],
   "source": [
    "\n",
    "from sklearn.preprocessing import OneHotEncoder\n",
    "\n",
    "encoder = OneHotEncoder(sparse=False)\n",
    "\n",
    "\n",
    "y_train_encoded = encoder.fit_transform(\n",
    "    np.reshape(np.array(y_train), (-1, 1))\n",
    "              )\n",
    "\n",
    "                                        \n",
    "y_test_encoded = encoder.fit_transform(\n",
    "    np.reshape(np.array(y_test), (-1, 1))\n",
    "              )                                   \n"
   ]
  },
  {
   "cell_type": "code",
   "execution_count": 130,
   "id": "4aa5784e",
   "metadata": {},
   "outputs": [],
   "source": [
    "from tensorflow.keras.layers import Embedding, LSTM, Dense, Bidirectional\n",
    "\n",
    "embedding_layer = Embedding(input_dim=len(tokenizer.word_index) + 1,\n",
    "                            output_dim=300,\n",
    "                            weights=[embedding_matrix],\n",
    "                            input_length=100,\n",
    "                            trainable=False)"
   ]
  },
  {
   "cell_type": "code",
   "execution_count": 150,
   "id": "ef0f4016",
   "metadata": {},
   "outputs": [],
   "source": [
    "from tensorflow.keras.models import Sequential\n",
    "model = Sequential([\n",
    "    embedding_layer,\n",
    "    Bidirectional(LSTM(150, return_sequences=True)), \n",
    "    Bidirectional(LSTM(150)),\n",
    "    Dense(128, activation='relu'),\n",
    "   Dense(11, activation='softmax')\n",
    "])"
   ]
  },
  {
   "cell_type": "code",
   "execution_count": 151,
   "id": "c2a0db82",
   "metadata": {},
   "outputs": [],
   "source": [
    "model.compile(loss='categorical_crossentropy',optimizer='adam',metrics=['accuracy'])"
   ]
  },
  {
   "cell_type": "code",
   "execution_count": 110,
   "id": "10ff5ec9",
   "metadata": {},
   "outputs": [],
   "source": [
    "from tensorflow.keras.callbacks import EarlyStopping, TensorBoard"
   ]
  },
  {
   "cell_type": "code",
   "execution_count": 111,
   "id": "c2c1dbc9",
   "metadata": {},
   "outputs": [],
   "source": [
    "%load_ext tensorboard"
   ]
  },
  {
   "cell_type": "code",
   "execution_count": 1,
   "id": "71dabceb",
   "metadata": {},
   "outputs": [],
   "source": [
    "log_folder = 'logs'\n",
    "callbacks = [\n",
    "            EarlyStopping(patience = 10),\n",
    "            TensorBoard(log_dir=log_folder)\n",
    "            ]\n",
    "num_epochs = 2\n",
    "history = model.fit(X_train_padded, y_train_encoded, epochs=num_epochs, validation_data=(X_test_padded, y_test_encoded),callbacks=callbacks)"
   ]
  },
  {
   "cell_type": "code",
   "execution_count": null,
   "id": "8f2cd135",
   "metadata": {},
   "outputs": [],
   "source": []
  }
 ],
 "metadata": {
  "environment": {
   "kernel": "python3",
   "name": "tf2-gpu.2-8.m103",
   "type": "gcloud",
   "uri": "gcr.io/deeplearning-platform-release/tf2-gpu.2-8:m103"
  },
  "kernelspec": {
   "display_name": "Python 3 (ipykernel)",
   "language": "python",
   "name": "python3"
  },
  "language_info": {
   "codemirror_mode": {
    "name": "ipython",
    "version": 3
   },
   "file_extension": ".py",
   "mimetype": "text/x-python",
   "name": "python",
   "nbconvert_exporter": "python",
   "pygments_lexer": "ipython3",
   "version": "3.10.9"
  }
 },
 "nbformat": 4,
 "nbformat_minor": 5
}
